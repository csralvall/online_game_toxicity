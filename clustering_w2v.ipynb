{
  "nbformat": 4,
  "nbformat_minor": 0,
  "metadata": {
    "colab": {
      "name": "clustering_w2v.ipynb",
      "provenance": [],
      "collapsed_sections": [],
      "authorship_tag": "ABX9TyPkPYvW7HKn8pZa9grXopuw",
      "include_colab_link": true
    },
    "kernelspec": {
      "name": "python3",
      "display_name": "Python 3"
    },
    "language_info": {
      "name": "python"
    }
  },
  "cells": [
    {
      "cell_type": "markdown",
      "metadata": {
        "id": "view-in-github",
        "colab_type": "text"
      },
      "source": [
        "<a href=\"https://colab.research.google.com/github/csralvall/online_game_toxicity/blob/main/clustering_w2v.ipynb\" target=\"_parent\"><img src=\"https://colab.research.google.com/assets/colab-badge.svg\" alt=\"Open In Colab\"/></a>"
      ]
    },
    {
      "cell_type": "markdown",
      "metadata": {
        "id": "VH7vZ2eXXVDD"
      },
      "source": [
        "### Import utility functions"
      ]
    },
    {
      "cell_type": "code",
      "metadata": {
        "id": "uFh8HD-mWVnw"
      },
      "source": [
        "from IPython.display import clear_output"
      ],
      "execution_count": 1,
      "outputs": []
    },
    {
      "cell_type": "markdown",
      "metadata": {
        "id": "eF3gtzESXiz2"
      },
      "source": [
        "### Install dependencies"
      ]
    },
    {
      "cell_type": "code",
      "metadata": {
        "id": "YBtxeZnzVXjW"
      },
      "source": [
        "# install dependencies\n",
        "!pip install -U pip setuptools wheel pandas sklearn numpy gensim wget\n",
        "clear_output()"
      ],
      "execution_count": 2,
      "outputs": []
    },
    {
      "cell_type": "markdown",
      "metadata": {
        "id": "LHeftvjrXofB"
      },
      "source": [
        "### Import libraries"
      ]
    },
    {
      "cell_type": "code",
      "metadata": {
        "id": "maXhDvByUuFn"
      },
      "source": [
        "# import libraries\n",
        "from google.colab import drive\n",
        "import pandas as pd\n",
        "import numpy as np\n",
        "import sklearn.manifold\n",
        "import matplotlib.pyplot as plt\n",
        "from sklearn import metrics\n",
        "from sklearn.preprocessing import normalize\n",
        "from sklearn.cluster import KMeans\n",
        "from collections import Counter\n",
        "from gensim.models import Word2Vec"
      ],
      "execution_count": 3,
      "outputs": []
    },
    {
      "cell_type": "markdown",
      "metadata": {
        "id": "0q1b1zYpkE34"
      },
      "source": [
        "### Setup dataframe print options"
      ]
    },
    {
      "cell_type": "code",
      "metadata": {
        "id": "YkUytsZfkDqR"
      },
      "source": [
        "pd.set_option(\"display.max_rows\", None, \"display.max_columns\", None)"
      ],
      "execution_count": 4,
      "outputs": []
    },
    {
      "cell_type": "markdown",
      "metadata": {
        "id": "DL1sYT0tXx7k"
      },
      "source": [
        "### Mount storage"
      ]
    },
    {
      "cell_type": "code",
      "metadata": {
        "colab": {
          "base_uri": "https://localhost:8080/"
        },
        "id": "u3mjkCTQWaLo",
        "outputId": "a30ca582-0c2c-4f84-89b7-6a4a295dc637"
      },
      "source": [
        "# mount google drive unit to save computationally expensive results\n",
        "drive.mount('/content/drive')"
      ],
      "execution_count": 5,
      "outputs": [
        {
          "output_type": "stream",
          "name": "stdout",
          "text": [
            "Drive already mounted at /content/drive; to attempt to forcibly remount, call drive.mount(\"/content/drive\", force_remount=True).\n"
          ]
        }
      ]
    },
    {
      "cell_type": "markdown",
      "metadata": {
        "id": "xOZY40qrX0ZC"
      },
      "source": [
        "### Load subset of whole dataset from storage"
      ]
    },
    {
      "cell_type": "code",
      "metadata": {
        "id": "yVhIh1OfWkF_"
      },
      "source": [
        "# english chats from original dataset with anotations\n",
        "eng_annotated = '/content/drive/MyDrive/nlp/dota2_chat_eng_annotated_2.csv'\n",
        "df_test = pd.read_csv(eng_annotated)[:10000].dropna().reset_index(drop=True)"
      ],
      "execution_count": 6,
      "outputs": []
    },
    {
      "cell_type": "markdown",
      "metadata": {
        "id": "Yu0UcyGI7GHb"
      },
      "source": [
        "### Get bad word list from memory"
      ]
    },
    {
      "cell_type": "code",
      "metadata": {
        "id": "DnXy-9AwhltM"
      },
      "source": [
        "# get downloaded bad word list\n",
        "word_list = \"/content/drive/MyDrive/nlp/bad_words.txt\"\n",
        "# use set for fast queries\n",
        "bad_words = set(line.strip() for line in open(word_list, 'r'))\n",
        "# add new bad words\n",
        "bad_words.update(['noob', 'noobs', 'stfu', 'fukign', 'fuking', 'fukin', 'nooob'])\n",
        "bad_dict = dict.fromkeys(bad_words, 0)"
      ],
      "execution_count": 7,
      "outputs": []
    },
    {
      "cell_type": "markdown",
      "metadata": {
        "id": "iF5zBmzWqOwf"
      },
      "source": [
        "### Word2Vec embeddings:"
      ]
    },
    {
      "cell_type": "code",
      "metadata": {
        "id": "7OsRlXlT7zs7"
      },
      "source": [
        "# function to create embeddings of words in each chat\n",
        "def generate_embedding_w2v(sentences: [[str]]):\n",
        "  w2v_model = Word2Vec(\n",
        "                     min_count=20,\n",
        "                     window=2,\n",
        "                     #size=300,\n",
        "                     sample=6e-5, \n",
        "                     alpha=0.03, \n",
        "                     min_alpha=0.0007, \n",
        "                     negative=20,\n",
        "                     workers=1)\n",
        "\n",
        "  w2v_model.build_vocab(sentences, progress_per=10000)\n",
        "\n",
        "  w2v_model.train(sentences, total_examples=w2v_model.corpus_count, epochs=30, report_delay=1)\n",
        "\n",
        "  return w2v_model"
      ],
      "execution_count": 8,
      "outputs": []
    },
    {
      "cell_type": "markdown",
      "metadata": {
        "id": "Q6q41eHRYLeD"
      },
      "source": [
        "### Unroll chats as list of words"
      ]
    },
    {
      "cell_type": "code",
      "metadata": {
        "id": "Wet2ZMgEGbzz"
      },
      "source": [
        "def flatten(t):\n",
        "    return [item for sublist in t for item in sublist]"
      ],
      "execution_count": 9,
      "outputs": []
    },
    {
      "cell_type": "code",
      "metadata": {
        "id": "kGbEkPMkmdoM"
      },
      "source": [
        "# from cleaned english chats get all of them without nan values\n",
        "chats = df_test[['tokens']].dropna().astype(str).values\n",
        "chats = flatten(chats)\n",
        "vocab = list(map(lambda x: x.split(), chats))"
      ],
      "execution_count": 10,
      "outputs": []
    },
    {
      "cell_type": "markdown",
      "metadata": {
        "id": "-XHxBPDL3BM9"
      },
      "source": [
        "### Generate word embeddings from chat"
      ]
    },
    {
      "cell_type": "code",
      "metadata": {
        "id": "uCC4MAJ63sPm"
      },
      "source": [
        "w2v_model = generate_embedding_w2v(vocab)"
      ],
      "execution_count": 11,
      "outputs": []
    },
    {
      "cell_type": "code",
      "metadata": {
        "id": "ukuY_qWGmTXF"
      },
      "source": [
        "# save Word2Vec model\n",
        "w2v_model.save('/content/drive/MyDrive/nlp/word2vec_2.model')"
      ],
      "execution_count": 12,
      "outputs": []
    },
    {
      "cell_type": "markdown",
      "metadata": {
        "id": "2sKtCB-e3LZF"
      },
      "source": [
        "### Load word embeddings from disk"
      ]
    },
    {
      "cell_type": "code",
      "metadata": {
        "id": "KjT9yQPF3tfT"
      },
      "source": [
        "# load Word2Vec model\n",
        "w2v_model = Word2Vec.load('/content/drive/MyDrive/nlp/word2vec_2.model')"
      ],
      "execution_count": 13,
      "outputs": []
    },
    {
      "cell_type": "markdown",
      "metadata": {
        "id": "suZ6ZD-lvay6"
      },
      "source": [
        "### Embeddings utils"
      ]
    },
    {
      "cell_type": "code",
      "metadata": {
        "id": "AisVg8TSvhUj"
      },
      "source": [
        "# generate embedding from chat\n",
        "def chat_embedding(model, chat_words):\n",
        "    chat_embedding = np.ones(100)\n",
        "    for word in chat_words:\n",
        "        if word in model.wv:\n",
        "            chat_embedding *= model.wv[word] \n",
        "    return chat_embedding"
      ],
      "execution_count": 14,
      "outputs": []
    },
    {
      "cell_type": "markdown",
      "metadata": {
        "id": "YSssAgSoxrOo"
      },
      "source": [
        "### Clustering utils"
      ]
    },
    {
      "cell_type": "code",
      "metadata": {
        "id": "RlacJecnxtnZ"
      },
      "source": [
        "def get_bad_vec(lexicon, chat_words):\n",
        "    for word in chat_words:\n",
        "        if word in lexicon:\n",
        "            lexicon[word] += 1\n",
        "\n",
        "    bad_vec = np.fromiter(lexicon.values(), dtype=int)\n",
        "    \n",
        "    return bad_vec"
      ],
      "execution_count": 15,
      "outputs": []
    },
    {
      "cell_type": "code",
      "metadata": {
        "id": "0km18782I8rI"
      },
      "source": [
        "intensity = df_test[['intensity']].copy()"
      ],
      "execution_count": 16,
      "outputs": []
    },
    {
      "cell_type": "markdown",
      "metadata": {
        "id": "4u07Ttn0ljUA"
      },
      "source": [
        "### Create w2v vectors for clustering"
      ]
    },
    {
      "cell_type": "code",
      "metadata": {
        "id": "MeafPfvlFXRy"
      },
      "source": [
        "w2v_serie = np.array([])\n",
        "for idx, chat in enumerate(chats):\n",
        "    lexicon = dict.fromkeys(bad_words, 0)\n",
        "    chat_intensity = intensity.loc[idx]\n",
        "    chat_words = chat.split()\n",
        "    bad_vec = get_bad_vec(lexicon, chat_words)\n",
        "    w2v_embedding = chat_embedding(w2v_model, chat_words)\n",
        "    w2v_bad_int_vec = np.hstack((w2v_embedding, bad_vec, chat_intensity)).ravel()\n",
        "    w2v_serie = np.concatenate((w2v_serie, w2v_bad_int_vec))"
      ],
      "execution_count": 17,
      "outputs": []
    },
    {
      "cell_type": "markdown",
      "metadata": {
        "id": "5vjt8H2Glrwi"
      },
      "source": [
        "### Reshape data"
      ]
    },
    {
      "cell_type": "code",
      "metadata": {
        "id": "j5ob-oAzwGZC"
      },
      "source": [
        "w2v_ncolumns = w2v_model.wv.vectors.shape[1] + len(bad_words) + 1\n",
        "w2v_serie = w2v_serie.astype('float').reshape((-1, w2v_ncolumns))\n",
        "w2v_matrix = w2v_serie[~np.isnan(w2v_serie)].reshape((-1, w2v_ncolumns))"
      ],
      "execution_count": 18,
      "outputs": []
    },
    {
      "cell_type": "markdown",
      "metadata": {
        "id": "NfRO3gt9lxNs"
      },
      "source": [
        "### Matrix reduction"
      ]
    },
    {
      "cell_type": "code",
      "metadata": {
        "id": "ZVZBvVQj6EWR"
      },
      "source": [
        "def reduce_matrix(matrix: np.ndarray, *, variance_treshold: float):\n",
        "    print(f'INPUT SHAPE: {matrix.shape}')\n",
        "    # reduce all vectors to [0, 1] space\n",
        "    normalized_matrix = normalize(matrix, axis=1)\n",
        "    # compute variances in each row\n",
        "    matrix_variances = np.var(matrix, axis=0)\n",
        "    # create mask for features with high correlation (low variance)\n",
        "    bool_mask = np.where(matrix_variances < variance_treshold)\n",
        "    # filter features with high correlation (variance under treshold)\n",
        "    raked_matrix = np.delete(normalized_matrix, bool_mask, axis=1)\n",
        "    print(f'OUTPUT SHAPE: {raked_matrix.shape}')\n",
        "    return raked_matrix"
      ],
      "execution_count": 19,
      "outputs": []
    },
    {
      "cell_type": "markdown",
      "metadata": {
        "id": "GvqNAUdfhnWB"
      },
      "source": [
        "### Reduce matrix"
      ]
    },
    {
      "cell_type": "code",
      "metadata": {
        "colab": {
          "base_uri": "https://localhost:8080/"
        },
        "id": "bLHhdTn56Ywf",
        "outputId": "6baadfb3-66f3-4a3a-f9aa-29074951f261"
      },
      "source": [
        "w2v_reduced = reduce_matrix(w2v_matrix, variance_treshold=0.01)"
      ],
      "execution_count": 20,
      "outputs": [
        {
          "output_type": "stream",
          "name": "stdout",
          "text": [
            "INPUT SHAPE: (10000, 1492)\n",
            "OUTPUT SHAPE: (10000, 106)\n"
          ]
        }
      ]
    },
    {
      "cell_type": "markdown",
      "metadata": {
        "id": "3bimv8Pihzk2"
      },
      "source": [
        "### Save matrix"
      ]
    },
    {
      "cell_type": "code",
      "metadata": {
        "id": "5hFo-KdhwDUU"
      },
      "source": [
        "with open('/content/drive/MyDrive/nlp/w2v_serie_10000_2.npy', 'wb') as output_file:\n",
        "    np.save(output_file, w2v_reduced)"
      ],
      "execution_count": 21,
      "outputs": []
    },
    {
      "cell_type": "markdown",
      "metadata": {
        "id": "MV30N4Goh2nf"
      },
      "source": [
        "### Load matrix from storage"
      ]
    },
    {
      "cell_type": "code",
      "metadata": {
        "id": "on1CLs95ghfr"
      },
      "source": [
        "w2v_reduced = np.load('/content/drive/MyDrive/nlp/w2v_serie_10000_2.npy')"
      ],
      "execution_count": 22,
      "outputs": []
    },
    {
      "cell_type": "markdown",
      "metadata": {
        "id": "V9svTIM7l1Mm"
      },
      "source": [
        "### Clustering"
      ]
    },
    {
      "cell_type": "code",
      "metadata": {
        "id": "yu2EI9Ty6osz"
      },
      "source": [
        "def generate_clusters(\n",
        "    matrix: np.ndarray,\n",
        "    n_clusters: int\n",
        ") -> KMeans:\n",
        "    # generate word clusters using the KMeans algorithm.\n",
        "    print(\"\\nClustering started\")\n",
        "    # Instantiate KMeans clusterer for n_clusters\n",
        "    km_model = KMeans(n_clusters=n_clusters, random_state=3)\n",
        "    # create clusters\n",
        "    km_model.fit(matrix)\n",
        "    print(\"Clustering finished\")\n",
        "    return km_model"
      ],
      "execution_count": 23,
      "outputs": []
    },
    {
      "cell_type": "markdown",
      "metadata": {
        "id": "ehqokty1iTra"
      },
      "source": [
        "### Create clusters"
      ]
    },
    {
      "cell_type": "code",
      "metadata": {
        "colab": {
          "base_uri": "https://localhost:8080/"
        },
        "id": "DPhX4J3Z69Hx",
        "outputId": "59baef01-e1c2-4e0e-8724-e88e7b6dfb24"
      },
      "source": [
        "w2v_clusters = generate_clusters(w2v_reduced, 40)"
      ],
      "execution_count": 24,
      "outputs": [
        {
          "output_type": "stream",
          "name": "stdout",
          "text": [
            "\n",
            "Clustering started\n",
            "Clustering finished\n"
          ]
        }
      ]
    },
    {
      "cell_type": "markdown",
      "metadata": {
        "id": "zsGqDt5jiXko"
      },
      "source": [
        "### Cluster utility functions"
      ]
    },
    {
      "cell_type": "code",
      "metadata": {
        "id": "9m5VxwFj7pvE"
      },
      "source": [
        "def display_summary(clusters: KMeans):\n",
        "    cluster_count = Counter(sorted(clusters.labels_))\n",
        "    for cluster in cluster_count:\n",
        "        print (\"Cluster#\", cluster,\" - Total words:\", cluster_count[cluster])"
      ],
      "execution_count": 25,
      "outputs": []
    },
    {
      "cell_type": "code",
      "metadata": {
        "id": "9oN0JpYkuRdp"
      },
      "source": [
        "def annotate_dataframe(clusters: KMeans, df: pd.DataFrame, col_name: str):\n",
        "    cluster_count = Counter(sorted(clusters.labels_))\n",
        "    #sort cluster centers by proximity to centroid\n",
        "    order_centroids = clusters.cluster_centers_.argsort()[:, ::-1] \n",
        "\n",
        "    clusters_df = np.zeros(len(df))\n",
        "    \n",
        "    for cluster_idx in cluster_count:\n",
        "        # get words inside each cluster\n",
        "        cluster_words = np.where(clusters.labels_ == cluster_idx)[0]\n",
        "        # anotate all chats in cluster\n",
        "        for idx in cluster_words:\n",
        "            clusters_df[idx] = int(cluster_idx)\n",
        "\n",
        "    df[col_name] = clusters_df"
      ],
      "execution_count": 26,
      "outputs": []
    },
    {
      "cell_type": "markdown",
      "metadata": {
        "id": "VVNQmUU0igKL"
      },
      "source": [
        "### Show info about clusters"
      ]
    },
    {
      "cell_type": "code",
      "metadata": {
        "colab": {
          "base_uri": "https://localhost:8080/"
        },
        "id": "qSr-_Yk87viz",
        "outputId": "6aa27a7a-94ce-4e40-8cad-371278550940"
      },
      "source": [
        "# show number of words captured by each cluster\n",
        "display_summary(w2v_clusters)"
      ],
      "execution_count": 27,
      "outputs": [
        {
          "output_type": "stream",
          "name": "stdout",
          "text": [
            "Cluster# 0  - Total words: 6\n",
            "Cluster# 1  - Total words: 1936\n",
            "Cluster# 2  - Total words: 1745\n",
            "Cluster# 3  - Total words: 369\n",
            "Cluster# 4  - Total words: 355\n",
            "Cluster# 5  - Total words: 315\n",
            "Cluster# 6  - Total words: 703\n",
            "Cluster# 7  - Total words: 95\n",
            "Cluster# 8  - Total words: 139\n",
            "Cluster# 9  - Total words: 98\n",
            "Cluster# 10  - Total words: 83\n",
            "Cluster# 11  - Total words: 75\n",
            "Cluster# 12  - Total words: 71\n",
            "Cluster# 13  - Total words: 77\n",
            "Cluster# 14  - Total words: 62\n",
            "Cluster# 15  - Total words: 87\n",
            "Cluster# 16  - Total words: 59\n",
            "Cluster# 17  - Total words: 82\n",
            "Cluster# 18  - Total words: 147\n",
            "Cluster# 19  - Total words: 34\n",
            "Cluster# 20  - Total words: 115\n",
            "Cluster# 21  - Total words: 30\n",
            "Cluster# 22  - Total words: 43\n",
            "Cluster# 23  - Total words: 10\n",
            "Cluster# 24  - Total words: 150\n",
            "Cluster# 25  - Total words: 2448\n",
            "Cluster# 26  - Total words: 5\n",
            "Cluster# 27  - Total words: 196\n",
            "Cluster# 28  - Total words: 4\n",
            "Cluster# 29  - Total words: 38\n",
            "Cluster# 30  - Total words: 11\n",
            "Cluster# 31  - Total words: 151\n",
            "Cluster# 32  - Total words: 4\n",
            "Cluster# 33  - Total words: 1\n",
            "Cluster# 34  - Total words: 16\n",
            "Cluster# 35  - Total words: 23\n",
            "Cluster# 36  - Total words: 11\n",
            "Cluster# 37  - Total words: 177\n",
            "Cluster# 38  - Total words: 14\n",
            "Cluster# 39  - Total words: 15\n"
          ]
        }
      ]
    },
    {
      "cell_type": "markdown",
      "metadata": {
        "id": "ApUleEUNi6NO"
      },
      "source": [
        "### Annotate cluster for each row in dataframe"
      ]
    },
    {
      "cell_type": "code",
      "metadata": {
        "id": "628xHBsKvEXw"
      },
      "source": [
        "df_test = df_test.copy()"
      ],
      "execution_count": 28,
      "outputs": []
    },
    {
      "cell_type": "code",
      "metadata": {
        "id": "5adupRW8v7vk"
      },
      "source": [
        "annotate_dataframe(w2v_clusters, df_test, 'w2v_clusters')"
      ],
      "execution_count": 29,
      "outputs": []
    },
    {
      "cell_type": "code",
      "source": [
        "df_test['nwords'] = list(map(lambda x: len(x.split()), df_test['tokens']))"
      ],
      "metadata": {
        "id": "zrh2_G4Gv7bC"
      },
      "execution_count": 47,
      "outputs": []
    },
    {
      "cell_type": "code",
      "metadata": {
        "id": "uFKi61q3cjhf"
      },
      "source": [
        "df_test.to_csv(f'/content/drive/MyDrive/nlp/w2v_clusters_df_2.csv', index=False)"
      ],
      "execution_count": 48,
      "outputs": []
    },
    {
      "cell_type": "markdown",
      "metadata": {
        "id": "1VD30R-uYgak"
      },
      "source": [
        "### Load FastText clusters"
      ]
    },
    {
      "cell_type": "code",
      "metadata": {
        "id": "7h9rfKToYiN8"
      },
      "source": [
        "df_test = pd.read_csv('/content/drive/MyDrive/nlp/w2v_clusters_df_2.csv')"
      ],
      "execution_count": 49,
      "outputs": []
    },
    {
      "cell_type": "markdown",
      "metadata": {
        "id": "nycNKOAWjMtN"
      },
      "source": [
        "### Explore results"
      ]
    },
    {
      "cell_type": "code",
      "metadata": {
        "id": "H7jOXlqFw_Lu"
      },
      "source": [
        "w2v_group = df_test.groupby('w2v_clusters')"
      ],
      "execution_count": 50,
      "outputs": []
    },
    {
      "cell_type": "markdown",
      "metadata": {
        "id": "SpzbiX9uABGx"
      },
      "source": [
        "Shilouette coeficient for this clustering"
      ]
    },
    {
      "cell_type": "code",
      "metadata": {
        "colab": {
          "base_uri": "https://localhost:8080/"
        },
        "id": "CeQz8bN0AHEK",
        "outputId": "f5acd0c2-53cf-44d9-d710-904add1cf33d"
      },
      "source": [
        "metrics.silhouette_score(w2v_reduced, w2v_clusters.labels_, metric='euclidean')"
      ],
      "execution_count": 51,
      "outputs": [
        {
          "output_type": "execute_result",
          "data": {
            "text/plain": [
              "0.6137541220276498"
            ]
          },
          "metadata": {},
          "execution_count": 51
        }
      ]
    },
    {
      "cell_type": "markdown",
      "metadata": {
        "id": "1OXimEHIjjt1"
      },
      "source": [
        "#### Get toxicity score for each cluster"
      ]
    },
    {
      "cell_type": "code",
      "metadata": {
        "id": "KIkBmlPAlCoD",
        "colab": {
          "base_uri": "https://localhost:8080/",
          "height": 802
        },
        "outputId": "085fd899-28ee-460c-b8a9-bbe0462abf4b"
      },
      "source": [
        "w2v_score = (w2v_group['toxicity'].sum() / w2v_group['nwords'].sum())\n",
        "w2v_scored = pd.DataFrame({'score': w2v_score.values, 'size': w2v_group.size()})\n",
        "w2v_scored = w2v_scored[w2v_scored['score'] > 0.13]\n",
        "w2v_scored = w2v_scored.sort_values(by=['score', 'size'], ascending=[False, False])\n",
        "top_toxic_clusters = w2v_scored.index.to_list()\n",
        "w2v_scored"
      ],
      "execution_count": 53,
      "outputs": [
        {
          "output_type": "execute_result",
          "data": {
            "text/html": [
              "<div>\n",
              "<style scoped>\n",
              "    .dataframe tbody tr th:only-of-type {\n",
              "        vertical-align: middle;\n",
              "    }\n",
              "\n",
              "    .dataframe tbody tr th {\n",
              "        vertical-align: top;\n",
              "    }\n",
              "\n",
              "    .dataframe thead th {\n",
              "        text-align: right;\n",
              "    }\n",
              "</style>\n",
              "<table border=\"1\" class=\"dataframe\">\n",
              "  <thead>\n",
              "    <tr style=\"text-align: right;\">\n",
              "      <th></th>\n",
              "      <th>score</th>\n",
              "      <th>size</th>\n",
              "    </tr>\n",
              "    <tr>\n",
              "      <th>w2v_clusters</th>\n",
              "      <th></th>\n",
              "      <th></th>\n",
              "    </tr>\n",
              "  </thead>\n",
              "  <tbody>\n",
              "    <tr>\n",
              "      <th>26.0</th>\n",
              "      <td>0.769231</td>\n",
              "      <td>5</td>\n",
              "    </tr>\n",
              "    <tr>\n",
              "      <th>23.0</th>\n",
              "      <td>0.611111</td>\n",
              "      <td>10</td>\n",
              "    </tr>\n",
              "    <tr>\n",
              "      <th>19.0</th>\n",
              "      <td>0.590164</td>\n",
              "      <td>34</td>\n",
              "    </tr>\n",
              "    <tr>\n",
              "      <th>12.0</th>\n",
              "      <td>0.564286</td>\n",
              "      <td>71</td>\n",
              "    </tr>\n",
              "    <tr>\n",
              "      <th>22.0</th>\n",
              "      <td>0.557692</td>\n",
              "      <td>43</td>\n",
              "    </tr>\n",
              "    <tr>\n",
              "      <th>35.0</th>\n",
              "      <td>0.556818</td>\n",
              "      <td>23</td>\n",
              "    </tr>\n",
              "    <tr>\n",
              "      <th>30.0</th>\n",
              "      <td>0.534884</td>\n",
              "      <td>11</td>\n",
              "    </tr>\n",
              "    <tr>\n",
              "      <th>28.0</th>\n",
              "      <td>0.533333</td>\n",
              "      <td>4</td>\n",
              "    </tr>\n",
              "    <tr>\n",
              "      <th>14.0</th>\n",
              "      <td>0.464789</td>\n",
              "      <td>62</td>\n",
              "    </tr>\n",
              "    <tr>\n",
              "      <th>18.0</th>\n",
              "      <td>0.445070</td>\n",
              "      <td>147</td>\n",
              "    </tr>\n",
              "    <tr>\n",
              "      <th>21.0</th>\n",
              "      <td>0.434783</td>\n",
              "      <td>30</td>\n",
              "    </tr>\n",
              "    <tr>\n",
              "      <th>37.0</th>\n",
              "      <td>0.429561</td>\n",
              "      <td>177</td>\n",
              "    </tr>\n",
              "    <tr>\n",
              "      <th>16.0</th>\n",
              "      <td>0.416149</td>\n",
              "      <td>59</td>\n",
              "    </tr>\n",
              "    <tr>\n",
              "      <th>11.0</th>\n",
              "      <td>0.405405</td>\n",
              "      <td>75</td>\n",
              "    </tr>\n",
              "    <tr>\n",
              "      <th>32.0</th>\n",
              "      <td>0.363636</td>\n",
              "      <td>4</td>\n",
              "    </tr>\n",
              "    <tr>\n",
              "      <th>7.0</th>\n",
              "      <td>0.345196</td>\n",
              "      <td>95</td>\n",
              "    </tr>\n",
              "    <tr>\n",
              "      <th>13.0</th>\n",
              "      <td>0.341176</td>\n",
              "      <td>77</td>\n",
              "    </tr>\n",
              "    <tr>\n",
              "      <th>10.0</th>\n",
              "      <td>0.334711</td>\n",
              "      <td>83</td>\n",
              "    </tr>\n",
              "    <tr>\n",
              "      <th>33.0</th>\n",
              "      <td>0.333333</td>\n",
              "      <td>1</td>\n",
              "    </tr>\n",
              "    <tr>\n",
              "      <th>27.0</th>\n",
              "      <td>0.331104</td>\n",
              "      <td>196</td>\n",
              "    </tr>\n",
              "    <tr>\n",
              "      <th>8.0</th>\n",
              "      <td>0.325532</td>\n",
              "      <td>139</td>\n",
              "    </tr>\n",
              "    <tr>\n",
              "      <th>3.0</th>\n",
              "      <td>0.324148</td>\n",
              "      <td>369</td>\n",
              "    </tr>\n",
              "    <tr>\n",
              "      <th>9.0</th>\n",
              "      <td>0.276657</td>\n",
              "      <td>98</td>\n",
              "    </tr>\n",
              "  </tbody>\n",
              "</table>\n",
              "</div>"
            ],
            "text/plain": [
              "                 score  size\n",
              "w2v_clusters                \n",
              "26.0          0.769231     5\n",
              "23.0          0.611111    10\n",
              "19.0          0.590164    34\n",
              "12.0          0.564286    71\n",
              "22.0          0.557692    43\n",
              "35.0          0.556818    23\n",
              "30.0          0.534884    11\n",
              "28.0          0.533333     4\n",
              "14.0          0.464789    62\n",
              "18.0          0.445070   147\n",
              "21.0          0.434783    30\n",
              "37.0          0.429561   177\n",
              "16.0          0.416149    59\n",
              "11.0          0.405405    75\n",
              "32.0          0.363636     4\n",
              "7.0           0.345196    95\n",
              "13.0          0.341176    77\n",
              "10.0          0.334711    83\n",
              "33.0          0.333333     1\n",
              "27.0          0.331104   196\n",
              "8.0           0.325532   139\n",
              "3.0           0.324148   369\n",
              "9.0           0.276657    98"
            ]
          },
          "metadata": {},
          "execution_count": 53
        }
      ]
    },
    {
      "cell_type": "markdown",
      "metadata": {
        "id": "WsVbA2HPkeAC"
      },
      "source": [
        "### Explore clusters"
      ]
    },
    {
      "cell_type": "code",
      "metadata": {
        "colab": {
          "base_uri": "https://localhost:8080/",
          "height": 206
        },
        "id": "RtpwGTryiitB",
        "outputId": "12b819bd-0931-4f41-d713-366046e79b97"
      },
      "source": [
        "w2v_group.get_group(26)[['match','text']]"
      ],
      "execution_count": 54,
      "outputs": [
        {
          "output_type": "execute_result",
          "data": {
            "text/html": [
              "<div>\n",
              "<style scoped>\n",
              "    .dataframe tbody tr th:only-of-type {\n",
              "        vertical-align: middle;\n",
              "    }\n",
              "\n",
              "    .dataframe tbody tr th {\n",
              "        vertical-align: top;\n",
              "    }\n",
              "\n",
              "    .dataframe thead th {\n",
              "        text-align: right;\n",
              "    }\n",
              "</style>\n",
              "<table border=\"1\" class=\"dataframe\">\n",
              "  <thead>\n",
              "    <tr style=\"text-align: right;\">\n",
              "      <th></th>\n",
              "      <th>match</th>\n",
              "      <th>text</th>\n",
              "    </tr>\n",
              "  </thead>\n",
              "  <tbody>\n",
              "    <tr>\n",
              "      <th>178</th>\n",
              "      <td>87</td>\n",
              "      <td>fuck this shit nap team</td>\n",
              "    </tr>\n",
              "    <tr>\n",
              "      <th>3087</th>\n",
              "      <td>1785</td>\n",
              "      <td>fuck that shit</td>\n",
              "    </tr>\n",
              "    <tr>\n",
              "      <th>5017</th>\n",
              "      <td>2931</td>\n",
              "      <td>fuck off russians shit</td>\n",
              "    </tr>\n",
              "    <tr>\n",
              "      <th>5117</th>\n",
              "      <td>2991</td>\n",
              "      <td>fuck this shit</td>\n",
              "    </tr>\n",
              "    <tr>\n",
              "      <th>7028</th>\n",
              "      <td>3864</td>\n",
              "      <td>fuck this shit</td>\n",
              "    </tr>\n",
              "  </tbody>\n",
              "</table>\n",
              "</div>"
            ],
            "text/plain": [
              "      match                     text\n",
              "178      87  fuck this shit nap team\n",
              "3087   1785           fuck that shit\n",
              "5017   2931   fuck off russians shit\n",
              "5117   2991           fuck this shit\n",
              "7028   3864           fuck this shit"
            ]
          },
          "metadata": {},
          "execution_count": 54
        }
      ]
    },
    {
      "cell_type": "code",
      "metadata": {
        "colab": {
          "base_uri": "https://localhost:8080/",
          "height": 363
        },
        "id": "hni6Z8kbZHyS",
        "outputId": "65024163-f4f3-432b-ad9c-98ed2fb52a96"
      },
      "source": [
        "w2v_group.get_group(23)[['match','text']]"
      ],
      "execution_count": 55,
      "outputs": [
        {
          "output_type": "execute_result",
          "data": {
            "text/html": [
              "<div>\n",
              "<style scoped>\n",
              "    .dataframe tbody tr th:only-of-type {\n",
              "        vertical-align: middle;\n",
              "    }\n",
              "\n",
              "    .dataframe tbody tr th {\n",
              "        vertical-align: top;\n",
              "    }\n",
              "\n",
              "    .dataframe thead th {\n",
              "        text-align: right;\n",
              "    }\n",
              "</style>\n",
              "<table border=\"1\" class=\"dataframe\">\n",
              "  <thead>\n",
              "    <tr style=\"text-align: right;\">\n",
              "      <th></th>\n",
              "      <th>match</th>\n",
              "      <th>text</th>\n",
              "    </tr>\n",
              "  </thead>\n",
              "  <tbody>\n",
              "    <tr>\n",
              "      <th>1120</th>\n",
              "      <td>636</td>\n",
              "      <td>so fucking noisy but just a piece of shit</td>\n",
              "    </tr>\n",
              "    <tr>\n",
              "      <th>2381</th>\n",
              "      <td>1421</td>\n",
              "      <td>fucking lucky shit</td>\n",
              "    </tr>\n",
              "    <tr>\n",
              "      <th>3109</th>\n",
              "      <td>1795</td>\n",
              "      <td>fucking shit ass lion</td>\n",
              "    </tr>\n",
              "    <tr>\n",
              "      <th>3407</th>\n",
              "      <td>1988</td>\n",
              "      <td>we did evry fucking shit for him</td>\n",
              "    </tr>\n",
              "    <tr>\n",
              "      <th>6555</th>\n",
              "      <td>3662</td>\n",
              "      <td>fucking trash russian shit</td>\n",
              "    </tr>\n",
              "    <tr>\n",
              "      <th>7066</th>\n",
              "      <td>3887</td>\n",
              "      <td>3 fucking piece of shit</td>\n",
              "    </tr>\n",
              "    <tr>\n",
              "      <th>7257</th>\n",
              "      <td>3974</td>\n",
              "      <td>fucking monkey shit</td>\n",
              "    </tr>\n",
              "    <tr>\n",
              "      <th>7713</th>\n",
              "      <td>4234</td>\n",
              "      <td>fucking piece of shit</td>\n",
              "    </tr>\n",
              "    <tr>\n",
              "      <th>7768</th>\n",
              "      <td>4253</td>\n",
              "      <td>you play 2 mid and call us try hard you fuckin...</td>\n",
              "    </tr>\n",
              "    <tr>\n",
              "      <th>8619</th>\n",
              "      <td>4672</td>\n",
              "      <td>fucking retarded shit</td>\n",
              "    </tr>\n",
              "  </tbody>\n",
              "</table>\n",
              "</div>"
            ],
            "text/plain": [
              "      match                                               text\n",
              "1120    636          so fucking noisy but just a piece of shit\n",
              "2381   1421                                 fucking lucky shit\n",
              "3109   1795                              fucking shit ass lion\n",
              "3407   1988                   we did evry fucking shit for him\n",
              "6555   3662                         fucking trash russian shit\n",
              "7066   3887                            3 fucking piece of shit\n",
              "7257   3974                                fucking monkey shit\n",
              "7713   4234                              fucking piece of shit\n",
              "7768   4253  you play 2 mid and call us try hard you fuckin...\n",
              "8619   4672                              fucking retarded shit"
            ]
          },
          "metadata": {},
          "execution_count": 55
        }
      ]
    },
    {
      "cell_type": "code",
      "metadata": {
        "colab": {
          "base_uri": "https://localhost:8080/",
          "height": 1000
        },
        "id": "2ItS34m3ZMsl",
        "outputId": "38b4434f-b7a2-409f-f90f-8e6bdb627d69"
      },
      "source": [
        "w2v_group.get_group(19)[['match','text']]"
      ],
      "execution_count": 56,
      "outputs": [
        {
          "output_type": "execute_result",
          "data": {
            "text/html": [
              "<div>\n",
              "<style scoped>\n",
              "    .dataframe tbody tr th:only-of-type {\n",
              "        vertical-align: middle;\n",
              "    }\n",
              "\n",
              "    .dataframe tbody tr th {\n",
              "        vertical-align: top;\n",
              "    }\n",
              "\n",
              "    .dataframe thead th {\n",
              "        text-align: right;\n",
              "    }\n",
              "</style>\n",
              "<table border=\"1\" class=\"dataframe\">\n",
              "  <thead>\n",
              "    <tr style=\"text-align: right;\">\n",
              "      <th></th>\n",
              "      <th>match</th>\n",
              "      <th>text</th>\n",
              "    </tr>\n",
              "  </thead>\n",
              "  <tbody>\n",
              "    <tr>\n",
              "      <th>279</th>\n",
              "      <td>129</td>\n",
              "      <td>but my teammates wont to kill u((9(</td>\n",
              "    </tr>\n",
              "    <tr>\n",
              "      <th>1122</th>\n",
              "      <td>636</td>\n",
              "      <td>u go kill then quit?</td>\n",
              "    </tr>\n",
              "    <tr>\n",
              "      <th>1145</th>\n",
              "      <td>671</td>\n",
              "      <td>and u didnt kill me its necro</td>\n",
              "    </tr>\n",
              "    <tr>\n",
              "      <th>1311</th>\n",
              "      <td>779</td>\n",
              "      <td>always kill supp</td>\n",
              "    </tr>\n",
              "    <tr>\n",
              "      <th>1609</th>\n",
              "      <td>1002</td>\n",
              "      <td>I won0't kill you</td>\n",
              "    </tr>\n",
              "    <tr>\n",
              "      <th>1878</th>\n",
              "      <td>1153</td>\n",
              "      <td>can only can kill me with ur 2 bodyguards</td>\n",
              "    </tr>\n",
              "    <tr>\n",
              "      <th>2019</th>\n",
              "      <td>1249</td>\n",
              "      <td>you kill top[</td>\n",
              "    </tr>\n",
              "    <tr>\n",
              "      <th>2163</th>\n",
              "      <td>1327</td>\n",
              "      <td>kill this monkey</td>\n",
              "    </tr>\n",
              "    <tr>\n",
              "      <th>2213</th>\n",
              "      <td>1345</td>\n",
              "      <td>how i kill all of you</td>\n",
              "    </tr>\n",
              "    <tr>\n",
              "      <th>2323</th>\n",
              "      <td>1395</td>\n",
              "      <td>or again kill you</td>\n",
              "    </tr>\n",
              "    <tr>\n",
              "      <th>2343</th>\n",
              "      <td>1405</td>\n",
              "      <td>unpause and kill</td>\n",
              "    </tr>\n",
              "    <tr>\n",
              "      <th>3034</th>\n",
              "      <td>1751</td>\n",
              "      <td>Kill urself wywern picker</td>\n",
              "    </tr>\n",
              "    <tr>\n",
              "      <th>3247</th>\n",
              "      <td>1877</td>\n",
              "      <td>didnt even get the kill</td>\n",
              "    </tr>\n",
              "    <tr>\n",
              "      <th>3346</th>\n",
              "      <td>1955</td>\n",
              "      <td>gj. I can't kill you all</td>\n",
              "    </tr>\n",
              "    <tr>\n",
              "      <th>3462</th>\n",
              "      <td>2010</td>\n",
              "      <td>if you kill me its racist</td>\n",
              "    </tr>\n",
              "    <tr>\n",
              "      <th>3471</th>\n",
              "      <td>2015</td>\n",
              "      <td>he kill himself 4 minu ago</td>\n",
              "    </tr>\n",
              "    <tr>\n",
              "      <th>3930</th>\n",
              "      <td>2347</td>\n",
              "      <td>just go kill him</td>\n",
              "    </tr>\n",
              "    <tr>\n",
              "      <th>4533</th>\n",
              "      <td>2659</td>\n",
              "      <td>u kill him so much</td>\n",
              "    </tr>\n",
              "    <tr>\n",
              "      <th>4641</th>\n",
              "      <td>2743</td>\n",
              "      <td>so u wont kill me</td>\n",
              "    </tr>\n",
              "    <tr>\n",
              "      <th>4924</th>\n",
              "      <td>2876</td>\n",
              "      <td>goo kill him I will not save him</td>\n",
              "    </tr>\n",
              "    <tr>\n",
              "      <th>5337</th>\n",
              "      <td>3095</td>\n",
              "      <td>see cant even kill zeys</td>\n",
              "    </tr>\n",
              "    <tr>\n",
              "      <th>5719</th>\n",
              "      <td>3299</td>\n",
              "      <td>did you level off that kill</td>\n",
              "    </tr>\n",
              "    <tr>\n",
              "      <th>6952</th>\n",
              "      <td>3823</td>\n",
              "      <td>for a triple light kill</td>\n",
              "    </tr>\n",
              "    <tr>\n",
              "      <th>7581</th>\n",
              "      <td>4140</td>\n",
              "      <td>can i get an aghnims? so your es can't kill me ck</td>\n",
              "    </tr>\n",
              "    <tr>\n",
              "      <th>7873</th>\n",
              "      <td>4284</td>\n",
              "      <td>Because you didnt kill me</td>\n",
              "    </tr>\n",
              "    <tr>\n",
              "      <th>7920</th>\n",
              "      <td>4301</td>\n",
              "      <td>you should kill me</td>\n",
              "    </tr>\n",
              "    <tr>\n",
              "      <th>7966</th>\n",
              "      <td>4304</td>\n",
              "      <td>i kill you pa and mag whatch me</td>\n",
              "    </tr>\n",
              "    <tr>\n",
              "      <th>8606</th>\n",
              "      <td>4661</td>\n",
              "      <td>and you coulkn't even kill me</td>\n",
              "    </tr>\n",
              "    <tr>\n",
              "      <th>8636</th>\n",
              "      <td>4677</td>\n",
              "      <td>why you kill</td>\n",
              "    </tr>\n",
              "    <tr>\n",
              "      <th>9009</th>\n",
              "      <td>4880</td>\n",
              "      <td>when i had chancse to kill</td>\n",
              "    </tr>\n",
              "    <tr>\n",
              "      <th>9144</th>\n",
              "      <td>4936</td>\n",
              "      <td>kill meif u can bitches</td>\n",
              "    </tr>\n",
              "    <tr>\n",
              "      <th>9232</th>\n",
              "      <td>5004</td>\n",
              "      <td>u cant kill me</td>\n",
              "    </tr>\n",
              "    <tr>\n",
              "      <th>9586</th>\n",
              "      <td>5202</td>\n",
              "      <td>yaa For me to kill?</td>\n",
              "    </tr>\n",
              "    <tr>\n",
              "      <th>9784</th>\n",
              "      <td>5333</td>\n",
              "      <td>i will kill myself</td>\n",
              "    </tr>\n",
              "  </tbody>\n",
              "</table>\n",
              "</div>"
            ],
            "text/plain": [
              "      match                                               text\n",
              "279     129                but my teammates wont to kill u((9(\n",
              "1122    636                              u go kill then quit? \n",
              "1145    671                      and u didnt kill me its necro\n",
              "1311    779                                   always kill supp\n",
              "1609   1002                                  I won0't kill you\n",
              "1878   1153          can only can kill me with ur 2 bodyguards\n",
              "2019   1249                                      you kill top[\n",
              "2163   1327                                   kill this monkey\n",
              "2213   1345                              how i kill all of you\n",
              "2323   1395                                  or again kill you\n",
              "2343   1405                                   unpause and kill\n",
              "3034   1751                          Kill urself wywern picker\n",
              "3247   1877                           didnt even get the kill \n",
              "3346   1955                           gj. I can't kill you all\n",
              "3462   2010                          if you kill me its racist\n",
              "3471   2015                         he kill himself 4 minu ago\n",
              "3930   2347                                   just go kill him\n",
              "4533   2659                                 u kill him so much\n",
              "4641   2743                                  so u wont kill me\n",
              "4924   2876                   goo kill him I will not save him\n",
              "5337   3095                            see cant even kill zeys\n",
              "5719   3299                        did you level off that kill\n",
              "6952   3823                            for a triple light kill\n",
              "7581   4140  can i get an aghnims? so your es can't kill me ck\n",
              "7873   4284                          Because you didnt kill me\n",
              "7920   4301                                 you should kill me\n",
              "7966   4304                    i kill you pa and mag whatch me\n",
              "8606   4661                      and you coulkn't even kill me\n",
              "8636   4677                                       why you kill\n",
              "9009   4880                         when i had chancse to kill\n",
              "9144   4936                            kill meif u can bitches\n",
              "9232   5004                                     u cant kill me\n",
              "9586   5202                                yaa For me to kill?\n",
              "9784   5333                                 i will kill myself"
            ]
          },
          "metadata": {},
          "execution_count": 56
        }
      ]
    },
    {
      "cell_type": "code",
      "metadata": {
        "colab": {
          "base_uri": "https://localhost:8080/",
          "height": 1000
        },
        "id": "De6eY6ArZQzj",
        "outputId": "e759078d-51f6-409a-c506-0fc5b4c2182a"
      },
      "source": [
        "w2v_group.get_group(12)[['match','text']]"
      ],
      "execution_count": 57,
      "outputs": [
        {
          "output_type": "execute_result",
          "data": {
            "text/html": [
              "<div>\n",
              "<style scoped>\n",
              "    .dataframe tbody tr th:only-of-type {\n",
              "        vertical-align: middle;\n",
              "    }\n",
              "\n",
              "    .dataframe tbody tr th {\n",
              "        vertical-align: top;\n",
              "    }\n",
              "\n",
              "    .dataframe thead th {\n",
              "        text-align: right;\n",
              "    }\n",
              "</style>\n",
              "<table border=\"1\" class=\"dataframe\">\n",
              "  <thead>\n",
              "    <tr style=\"text-align: right;\">\n",
              "      <th></th>\n",
              "      <th>match</th>\n",
              "      <th>text</th>\n",
              "    </tr>\n",
              "  </thead>\n",
              "  <tbody>\n",
              "    <tr>\n",
              "      <th>131</th>\n",
              "      <td>82</td>\n",
              "      <td>Ima out to fuck</td>\n",
              "    </tr>\n",
              "    <tr>\n",
              "      <th>203</th>\n",
              "      <td>107</td>\n",
              "      <td>i fuck your mum</td>\n",
              "    </tr>\n",
              "    <tr>\n",
              "      <th>235</th>\n",
              "      <td>121</td>\n",
              "      <td>what the fuck</td>\n",
              "    </tr>\n",
              "    <tr>\n",
              "      <th>244</th>\n",
              "      <td>121</td>\n",
              "      <td>what the fuck</td>\n",
              "    </tr>\n",
              "    <tr>\n",
              "      <th>307</th>\n",
              "      <td>153</td>\n",
              "      <td>where the fuck is snow</td>\n",
              "    </tr>\n",
              "    <tr>\n",
              "      <th>450</th>\n",
              "      <td>227</td>\n",
              "      <td>fuck you buyer</td>\n",
              "    </tr>\n",
              "    <tr>\n",
              "      <th>722</th>\n",
              "      <td>378</td>\n",
              "      <td>cant fuck with oracle!</td>\n",
              "    </tr>\n",
              "    <tr>\n",
              "      <th>1099</th>\n",
              "      <td>612</td>\n",
              "      <td>get the fuck out</td>\n",
              "    </tr>\n",
              "    <tr>\n",
              "      <th>1364</th>\n",
              "      <td>826</td>\n",
              "      <td>fuck off dudes</td>\n",
              "    </tr>\n",
              "    <tr>\n",
              "      <th>1639</th>\n",
              "      <td>1033</td>\n",
              "      <td>bc fuck u thats y</td>\n",
              "    </tr>\n",
              "    <tr>\n",
              "      <th>1799</th>\n",
              "      <td>1122</td>\n",
              "      <td>what the fuck</td>\n",
              "    </tr>\n",
              "    <tr>\n",
              "      <th>1845</th>\n",
              "      <td>1126</td>\n",
              "      <td>how the fuck is this balance ?</td>\n",
              "    </tr>\n",
              "    <tr>\n",
              "      <th>2043</th>\n",
              "      <td>1256</td>\n",
              "      <td>chrono me for what u fuck</td>\n",
              "    </tr>\n",
              "    <tr>\n",
              "      <th>2056</th>\n",
              "      <td>1260</td>\n",
              "      <td>fuck your moms</td>\n",
              "    </tr>\n",
              "    <tr>\n",
              "      <th>2088</th>\n",
              "      <td>1274</td>\n",
              "      <td>fuck that necro he sucks anyways</td>\n",
              "    </tr>\n",
              "    <tr>\n",
              "      <th>2403</th>\n",
              "      <td>1437</td>\n",
              "      <td>waif fuck your beloved oness</td>\n",
              "    </tr>\n",
              "    <tr>\n",
              "      <th>3006</th>\n",
              "      <td>1741</td>\n",
              "      <td>can you fuck off ?</td>\n",
              "    </tr>\n",
              "    <tr>\n",
              "      <th>3223</th>\n",
              "      <td>1859</td>\n",
              "      <td>fuck that dark willow</td>\n",
              "    </tr>\n",
              "    <tr>\n",
              "      <th>3244</th>\n",
              "      <td>1877</td>\n",
              "      <td>alright, fuck you kunkka</td>\n",
              "    </tr>\n",
              "    <tr>\n",
              "      <th>3245</th>\n",
              "      <td>1877</td>\n",
              "      <td>again.. fuck you kunkka</td>\n",
              "    </tr>\n",
              "    <tr>\n",
              "      <th>3270</th>\n",
              "      <td>1890</td>\n",
              "      <td>what the fuck?</td>\n",
              "    </tr>\n",
              "    <tr>\n",
              "      <th>3287</th>\n",
              "      <td>1898</td>\n",
              "      <td>17minutes fuck off rd??</td>\n",
              "    </tr>\n",
              "    <tr>\n",
              "      <th>3337</th>\n",
              "      <td>1945</td>\n",
              "      <td>fuck your family</td>\n",
              "    </tr>\n",
              "    <tr>\n",
              "      <th>3411</th>\n",
              "      <td>1991</td>\n",
              "      <td>how the fuck</td>\n",
              "    </tr>\n",
              "    <tr>\n",
              "      <th>3466</th>\n",
              "      <td>2015</td>\n",
              "      <td>go fuck off somewhere else</td>\n",
              "    </tr>\n",
              "    <tr>\n",
              "      <th>3563</th>\n",
              "      <td>2044</td>\n",
              "      <td>will fuck you again bird</td>\n",
              "    </tr>\n",
              "    <tr>\n",
              "      <th>3637</th>\n",
              "      <td>2083</td>\n",
              "      <td>what the fuck</td>\n",
              "    </tr>\n",
              "    <tr>\n",
              "      <th>3741</th>\n",
              "      <td>2174</td>\n",
              "      <td>fuck me when i  save this moron</td>\n",
              "    </tr>\n",
              "    <tr>\n",
              "      <th>3760</th>\n",
              "      <td>2201</td>\n",
              "      <td>the fuck is nam nam</td>\n",
              "    </tr>\n",
              "    <tr>\n",
              "      <th>3904</th>\n",
              "      <td>2328</td>\n",
              "      <td>the fuck are you doing</td>\n",
              "    </tr>\n",
              "    <tr>\n",
              "      <th>3965</th>\n",
              "      <td>2361</td>\n",
              "      <td>fuck off already</td>\n",
              "    </tr>\n",
              "    <tr>\n",
              "      <th>4105</th>\n",
              "      <td>2436</td>\n",
              "      <td>why the fuck u tped</td>\n",
              "    </tr>\n",
              "    <tr>\n",
              "      <th>4113</th>\n",
              "      <td>2440</td>\n",
              "      <td>fuck all the niggas'</td>\n",
              "    </tr>\n",
              "    <tr>\n",
              "      <th>4148</th>\n",
              "      <td>2458</td>\n",
              "      <td>i did not fuck your gf</td>\n",
              "    </tr>\n",
              "    <tr>\n",
              "      <th>4332</th>\n",
              "      <td>2548</td>\n",
              "      <td>go fuck yourself bick</td>\n",
              "    </tr>\n",
              "    <tr>\n",
              "      <th>4411</th>\n",
              "      <td>2596</td>\n",
              "      <td>can u call him a fat fuck for me?</td>\n",
              "    </tr>\n",
              "    <tr>\n",
              "      <th>4506</th>\n",
              "      <td>2646</td>\n",
              "      <td>idk how the fuck he feeds so much</td>\n",
              "    </tr>\n",
              "    <tr>\n",
              "      <th>4682</th>\n",
              "      <td>2768</td>\n",
              "      <td>the fuck  you doing there</td>\n",
              "    </tr>\n",
              "    <tr>\n",
              "      <th>4795</th>\n",
              "      <td>2803</td>\n",
              "      <td>fuck you all</td>\n",
              "    </tr>\n",
              "    <tr>\n",
              "      <th>5018</th>\n",
              "      <td>2931</td>\n",
              "      <td>fuck off and act mature</td>\n",
              "    </tr>\n",
              "    <tr>\n",
              "      <th>5022</th>\n",
              "      <td>2931</td>\n",
              "      <td>fuck you all</td>\n",
              "    </tr>\n",
              "    <tr>\n",
              "      <th>5535</th>\n",
              "      <td>3204</td>\n",
              "      <td>fuck you rat</td>\n",
              "    </tr>\n",
              "    <tr>\n",
              "      <th>5727</th>\n",
              "      <td>3302</td>\n",
              "      <td>fuck outta here</td>\n",
              "    </tr>\n",
              "    <tr>\n",
              "      <th>6241</th>\n",
              "      <td>3535</td>\n",
              "      <td>fuck this cxarry</td>\n",
              "    </tr>\n",
              "    <tr>\n",
              "      <th>6411</th>\n",
              "      <td>3599</td>\n",
              "      <td>i have places to be and bitches to fuck</td>\n",
              "    </tr>\n",
              "    <tr>\n",
              "      <th>6445</th>\n",
              "      <td>3622</td>\n",
              "      <td>saved you lil' fuck</td>\n",
              "    </tr>\n",
              "    <tr>\n",
              "      <th>6725</th>\n",
              "      <td>3722</td>\n",
              "      <td>fuck off brah</td>\n",
              "    </tr>\n",
              "    <tr>\n",
              "      <th>6849</th>\n",
              "      <td>3762</td>\n",
              "      <td>fuck you  kotl</td>\n",
              "    </tr>\n",
              "    <tr>\n",
              "      <th>6851</th>\n",
              "      <td>3762</td>\n",
              "      <td>fuck you kotl</td>\n",
              "    </tr>\n",
              "    <tr>\n",
              "      <th>7409</th>\n",
              "      <td>4071</td>\n",
              "      <td>fuck off weab</td>\n",
              "    </tr>\n",
              "    <tr>\n",
              "      <th>7439</th>\n",
              "      <td>4088</td>\n",
              "      <td>fuck the courier</td>\n",
              "    </tr>\n",
              "    <tr>\n",
              "      <th>7620</th>\n",
              "      <td>4164</td>\n",
              "      <td>fuck you bug</td>\n",
              "    </tr>\n",
              "    <tr>\n",
              "      <th>7712</th>\n",
              "      <td>4228</td>\n",
              "      <td>Fuck you Wes POS</td>\n",
              "    </tr>\n",
              "    <tr>\n",
              "      <th>7922</th>\n",
              "      <td>4304</td>\n",
              "      <td>i only fuck muslim girls</td>\n",
              "    </tr>\n",
              "    <tr>\n",
              "      <th>7939</th>\n",
              "      <td>4304</td>\n",
              "      <td>i fuck your sister magnus</td>\n",
              "    </tr>\n",
              "    <tr>\n",
              "      <th>7942</th>\n",
              "      <td>4304</td>\n",
              "      <td>i only fuck muslim girls</td>\n",
              "    </tr>\n",
              "    <tr>\n",
              "      <th>7954</th>\n",
              "      <td>4304</td>\n",
              "      <td>i fuck gigi hadid</td>\n",
              "    </tr>\n",
              "    <tr>\n",
              "      <th>8053</th>\n",
              "      <td>4355</td>\n",
              "      <td>fuck you heart</td>\n",
              "    </tr>\n",
              "    <tr>\n",
              "      <th>8370</th>\n",
              "      <td>4541</td>\n",
              "      <td>fuck rsa unranked</td>\n",
              "    </tr>\n",
              "    <tr>\n",
              "      <th>8667</th>\n",
              "      <td>4702</td>\n",
              "      <td>the fuck are you doing</td>\n",
              "    </tr>\n",
              "    <tr>\n",
              "      <th>8893</th>\n",
              "      <td>4813</td>\n",
              "      <td>i did fuck your mum</td>\n",
              "    </tr>\n",
              "    <tr>\n",
              "      <th>8906</th>\n",
              "      <td>4820</td>\n",
              "      <td>fuck you nimnko</td>\n",
              "    </tr>\n",
              "    <tr>\n",
              "      <th>8941</th>\n",
              "      <td>4844</td>\n",
              "      <td>who the fuck cares</td>\n",
              "    </tr>\n",
              "    <tr>\n",
              "      <th>9174</th>\n",
              "      <td>4962</td>\n",
              "      <td>who can fuck me？</td>\n",
              "    </tr>\n",
              "    <tr>\n",
              "      <th>9302</th>\n",
              "      <td>5030</td>\n",
              "      <td>i will fuck u too now</td>\n",
              "    </tr>\n",
              "    <tr>\n",
              "      <th>9414</th>\n",
              "      <td>5095</td>\n",
              "      <td>fuck the kids</td>\n",
              "    </tr>\n",
              "    <tr>\n",
              "      <th>9675</th>\n",
              "      <td>5240</td>\n",
              "      <td>fuck key board</td>\n",
              "    </tr>\n",
              "    <tr>\n",
              "      <th>9701</th>\n",
              "      <td>5250</td>\n",
              "      <td>wake the fuck up</td>\n",
              "    </tr>\n",
              "    <tr>\n",
              "      <th>9741</th>\n",
              "      <td>5295</td>\n",
              "      <td>fuck you nigg</td>\n",
              "    </tr>\n",
              "    <tr>\n",
              "      <th>9814</th>\n",
              "      <td>5336</td>\n",
              "      <td>fuck off tusk</td>\n",
              "    </tr>\n",
              "    <tr>\n",
              "      <th>9962</th>\n",
              "      <td>5395</td>\n",
              "      <td>fuck you sniepr</td>\n",
              "    </tr>\n",
              "  </tbody>\n",
              "</table>\n",
              "</div>"
            ],
            "text/plain": [
              "      match                                     text\n",
              "131      82                          Ima out to fuck\n",
              "203     107                          i fuck your mum\n",
              "235     121                            what the fuck\n",
              "244     121                            what the fuck\n",
              "307     153                   where the fuck is snow\n",
              "450     227                          fuck you buyer \n",
              "722     378                   cant fuck with oracle!\n",
              "1099    612                         get the fuck out\n",
              "1364    826                           fuck off dudes\n",
              "1639   1033                        bc fuck u thats y\n",
              "1799   1122                            what the fuck\n",
              "1845   1126           how the fuck is this balance ?\n",
              "2043   1256                chrono me for what u fuck\n",
              "2056   1260                           fuck your moms\n",
              "2088   1274         fuck that necro he sucks anyways\n",
              "2403   1437             waif fuck your beloved oness\n",
              "3006   1741                       can you fuck off ?\n",
              "3223   1859                    fuck that dark willow\n",
              "3244   1877                 alright, fuck you kunkka\n",
              "3245   1877                  again.. fuck you kunkka\n",
              "3270   1890                           what the fuck?\n",
              "3287   1898                  17minutes fuck off rd??\n",
              "3337   1945                         fuck your family\n",
              "3411   1991                             how the fuck\n",
              "3466   2015               go fuck off somewhere else\n",
              "3563   2044                 will fuck you again bird\n",
              "3637   2083                            what the fuck\n",
              "3741   2174          fuck me when i  save this moron\n",
              "3760   2201                      the fuck is nam nam\n",
              "3904   2328                   the fuck are you doing\n",
              "3965   2361                         fuck off already\n",
              "4105   2436                      why the fuck u tped\n",
              "4113   2440                     fuck all the niggas'\n",
              "4148   2458                   i did not fuck your gf\n",
              "4332   2548                    go fuck yourself bick\n",
              "4411   2596        can u call him a fat fuck for me?\n",
              "4506   2646        idk how the fuck he feeds so much\n",
              "4682   2768                the fuck  you doing there\n",
              "4795   2803                             fuck you all\n",
              "5018   2931                  fuck off and act mature\n",
              "5022   2931                             fuck you all\n",
              "5535   3204                             fuck you rat\n",
              "5727   3302                          fuck outta here\n",
              "6241   3535                         fuck this cxarry\n",
              "6411   3599  i have places to be and bitches to fuck\n",
              "6445   3622                      saved you lil' fuck\n",
              "6725   3722                            fuck off brah\n",
              "6849   3762                           fuck you  kotl\n",
              "6851   3762                            fuck you kotl\n",
              "7409   4071                            fuck off weab\n",
              "7439   4088                         fuck the courier\n",
              "7620   4164                             fuck you bug\n",
              "7712   4228                         Fuck you Wes POS\n",
              "7922   4304                 i only fuck muslim girls\n",
              "7939   4304                i fuck your sister magnus\n",
              "7942   4304                 i only fuck muslim girls\n",
              "7954   4304                        i fuck gigi hadid\n",
              "8053   4355                           fuck you heart\n",
              "8370   4541                        fuck rsa unranked\n",
              "8667   4702                   the fuck are you doing\n",
              "8893   4813                      i did fuck your mum\n",
              "8906   4820                          fuck you nimnko\n",
              "8941   4844                       who the fuck cares\n",
              "9174   4962                         who can fuck me？\n",
              "9302   5030                    i will fuck u too now\n",
              "9414   5095                            fuck the kids\n",
              "9675   5240                           fuck key board\n",
              "9701   5250                         wake the fuck up\n",
              "9741   5295                            fuck you nigg\n",
              "9814   5336                            fuck off tusk\n",
              "9962   5395                          fuck you sniepr"
            ]
          },
          "metadata": {},
          "execution_count": 57
        }
      ]
    },
    {
      "cell_type": "code",
      "metadata": {
        "colab": {
          "base_uri": "https://localhost:8080/",
          "height": 1000
        },
        "id": "ELuSBIU7ZTqq",
        "outputId": "da52045d-b583-4259-a529-65571f6c8821"
      },
      "source": [
        "w2v_group.get_group(22)[['match', 'text']]"
      ],
      "execution_count": 58,
      "outputs": [
        {
          "output_type": "execute_result",
          "data": {
            "text/html": [
              "<div>\n",
              "<style scoped>\n",
              "    .dataframe tbody tr th:only-of-type {\n",
              "        vertical-align: middle;\n",
              "    }\n",
              "\n",
              "    .dataframe tbody tr th {\n",
              "        vertical-align: top;\n",
              "    }\n",
              "\n",
              "    .dataframe thead th {\n",
              "        text-align: right;\n",
              "    }\n",
              "</style>\n",
              "<table border=\"1\" class=\"dataframe\">\n",
              "  <thead>\n",
              "    <tr style=\"text-align: right;\">\n",
              "      <th></th>\n",
              "      <th>match</th>\n",
              "      <th>text</th>\n",
              "    </tr>\n",
              "  </thead>\n",
              "  <tbody>\n",
              "    <tr>\n",
              "      <th>215</th>\n",
              "      <td>111</td>\n",
              "      <td>fucking hard game ever when got lucky timing s...</td>\n",
              "    </tr>\n",
              "    <tr>\n",
              "      <th>241</th>\n",
              "      <td>121</td>\n",
              "      <td>ur mom is fucking slut</td>\n",
              "    </tr>\n",
              "    <tr>\n",
              "      <th>242</th>\n",
              "      <td>121</td>\n",
              "      <td>are fucking retard ursa</td>\n",
              "    </tr>\n",
              "    <tr>\n",
              "      <th>548</th>\n",
              "      <td>290</td>\n",
              "      <td>this lineup is fucking stupid</td>\n",
              "    </tr>\n",
              "    <tr>\n",
              "      <th>657</th>\n",
              "      <td>339</td>\n",
              "      <td>retard my fucking team</td>\n",
              "    </tr>\n",
              "    <tr>\n",
              "      <th>1014</th>\n",
              "      <td>554</td>\n",
              "      <td>fucking idiot offlaner</td>\n",
              "    </tr>\n",
              "    <tr>\n",
              "      <th>1089</th>\n",
              "      <td>598</td>\n",
              "      <td>report necro and fucking riki</td>\n",
              "    </tr>\n",
              "    <tr>\n",
              "      <th>1156</th>\n",
              "      <td>683</td>\n",
              "      <td>jugg you fucking moron</td>\n",
              "    </tr>\n",
              "    <tr>\n",
              "      <th>1182</th>\n",
              "      <td>702</td>\n",
              "      <td>go fucking kill him</td>\n",
              "    </tr>\n",
              "    <tr>\n",
              "      <th>1832</th>\n",
              "      <td>1125</td>\n",
              "      <td>Already pick first invoker and i playing my ro...</td>\n",
              "    </tr>\n",
              "    <tr>\n",
              "      <th>2074</th>\n",
              "      <td>1269</td>\n",
              "      <td>fucking retarded russian dogs</td>\n",
              "    </tr>\n",
              "    <tr>\n",
              "      <th>2166</th>\n",
              "      <td>1327</td>\n",
              "      <td>fucking monkey suck my dick</td>\n",
              "    </tr>\n",
              "    <tr>\n",
              "      <th>2234</th>\n",
              "      <td>1353</td>\n",
              "      <td>fucking asshole mid more</td>\n",
              "    </tr>\n",
              "    <tr>\n",
              "      <th>2250</th>\n",
              "      <td>1364</td>\n",
              "      <td>this pudge so fucking stupid</td>\n",
              "    </tr>\n",
              "    <tr>\n",
              "      <th>2355</th>\n",
              "      <td>1407</td>\n",
              "      <td>this invo so fucking asshole</td>\n",
              "    </tr>\n",
              "    <tr>\n",
              "      <th>2654</th>\n",
              "      <td>1540</td>\n",
              "      <td>u fucking selfish prick qop</td>\n",
              "    </tr>\n",
              "    <tr>\n",
              "      <th>2775</th>\n",
              "      <td>1621</td>\n",
              "      <td>you fucking suck wk</td>\n",
              "    </tr>\n",
              "    <tr>\n",
              "      <th>2895</th>\n",
              "      <td>1710</td>\n",
              "      <td>fucking pussy team man</td>\n",
              "    </tr>\n",
              "    <tr>\n",
              "      <th>3272</th>\n",
              "      <td>1890</td>\n",
              "      <td>fucking try harder</td>\n",
              "    </tr>\n",
              "    <tr>\n",
              "      <th>3916</th>\n",
              "      <td>2343</td>\n",
              "      <td>? ur a bristle you fucking retard</td>\n",
              "    </tr>\n",
              "    <tr>\n",
              "      <th>4214</th>\n",
              "      <td>2484</td>\n",
              "      <td>fucking idiot mid</td>\n",
              "    </tr>\n",
              "    <tr>\n",
              "      <th>4448</th>\n",
              "      <td>2623</td>\n",
              "      <td>fucking idiot team</td>\n",
              "    </tr>\n",
              "    <tr>\n",
              "      <th>5010</th>\n",
              "      <td>2917</td>\n",
              "      <td>it is 5v5 game u fucking cunt</td>\n",
              "    </tr>\n",
              "    <tr>\n",
              "      <th>5197</th>\n",
              "      <td>3018</td>\n",
              "      <td>i fucking kill you</td>\n",
              "    </tr>\n",
              "    <tr>\n",
              "      <th>5483</th>\n",
              "      <td>3177</td>\n",
              "      <td>end this is bulshit gaming fucking sniper and ...</td>\n",
              "    </tr>\n",
              "    <tr>\n",
              "      <th>5519</th>\n",
              "      <td>3188</td>\n",
              "      <td>fucking clueless fuck</td>\n",
              "    </tr>\n",
              "    <tr>\n",
              "      <th>5974</th>\n",
              "      <td>3422</td>\n",
              "      <td>why u fucking hounting kills just push</td>\n",
              "    </tr>\n",
              "    <tr>\n",
              "      <th>6472</th>\n",
              "      <td>3629</td>\n",
              "      <td>fucking kill yourself</td>\n",
              "    </tr>\n",
              "    <tr>\n",
              "      <th>6740</th>\n",
              "      <td>3725</td>\n",
              "      <td>fucking god can't give less than 4 secs</td>\n",
              "    </tr>\n",
              "    <tr>\n",
              "      <th>6793</th>\n",
              "      <td>3748</td>\n",
              "      <td>team is fucking stupid animals</td>\n",
              "    </tr>\n",
              "    <tr>\n",
              "      <th>7082</th>\n",
              "      <td>3894</td>\n",
              "      <td>why i have this fucking retarded russian in my...</td>\n",
              "    </tr>\n",
              "    <tr>\n",
              "      <th>7101</th>\n",
              "      <td>3896</td>\n",
              "      <td>just now fucking idiot naix and ck  say me wil...</td>\n",
              "    </tr>\n",
              "    <tr>\n",
              "      <th>7168</th>\n",
              "      <td>3911</td>\n",
              "      <td>it is fucking unranked chill the fuck out</td>\n",
              "    </tr>\n",
              "    <tr>\n",
              "      <th>7781</th>\n",
              "      <td>4255</td>\n",
              "      <td>dude if you're gonna bitch this much then dont...</td>\n",
              "    </tr>\n",
              "    <tr>\n",
              "      <th>7835</th>\n",
              "      <td>4265</td>\n",
              "      <td>CAmila fucking bitch</td>\n",
              "    </tr>\n",
              "    <tr>\n",
              "      <th>7924</th>\n",
              "      <td>4304</td>\n",
              "      <td>shut up u fucking virign cunt</td>\n",
              "    </tr>\n",
              "    <tr>\n",
              "      <th>7938</th>\n",
              "      <td>4304</td>\n",
              "      <td>fucking indian fuck</td>\n",
              "    </tr>\n",
              "    <tr>\n",
              "      <th>8057</th>\n",
              "      <td>4366</td>\n",
              "      <td>Fucking Russians retard</td>\n",
              "    </tr>\n",
              "    <tr>\n",
              "      <th>8582</th>\n",
              "      <td>4640</td>\n",
              "      <td>just fucking kill me</td>\n",
              "    </tr>\n",
              "    <tr>\n",
              "      <th>8763</th>\n",
              "      <td>4754</td>\n",
              "      <td>that is fucking bitch</td>\n",
              "    </tr>\n",
              "    <tr>\n",
              "      <th>9613</th>\n",
              "      <td>5216</td>\n",
              "      <td>easy fucking slave</td>\n",
              "    </tr>\n",
              "    <tr>\n",
              "      <th>9681</th>\n",
              "      <td>5241</td>\n",
              "      <td>that fucking ant is dead so im happy</td>\n",
              "    </tr>\n",
              "    <tr>\n",
              "      <th>9974</th>\n",
              "      <td>5396</td>\n",
              "      <td>you are fucking idiot</td>\n",
              "    </tr>\n",
              "  </tbody>\n",
              "</table>\n",
              "</div>"
            ],
            "text/plain": [
              "      match                                               text\n",
              "215     111  fucking hard game ever when got lucky timing s...\n",
              "241     121                             ur mom is fucking slut\n",
              "242     121                            are fucking retard ursa\n",
              "548     290                      this lineup is fucking stupid\n",
              "657     339                            retard my fucking team \n",
              "1014    554                             fucking idiot offlaner\n",
              "1089    598                      report necro and fucking riki\n",
              "1156    683                             jugg you fucking moron\n",
              "1182    702                                go fucking kill him\n",
              "1832   1125  Already pick first invoker and i playing my ro...\n",
              "2074   1269                      fucking retarded russian dogs\n",
              "2166   1327                        fucking monkey suck my dick\n",
              "2234   1353                           fucking asshole mid more\n",
              "2250   1364                       this pudge so fucking stupid\n",
              "2355   1407                       this invo so fucking asshole\n",
              "2654   1540                        u fucking selfish prick qop\n",
              "2775   1621                                you fucking suck wk\n",
              "2895   1710                             fucking pussy team man\n",
              "3272   1890                                 fucking try harder\n",
              "3916   2343                  ? ur a bristle you fucking retard\n",
              "4214   2484                                  fucking idiot mid\n",
              "4448   2623                                 fucking idiot team\n",
              "5010   2917                      it is 5v5 game u fucking cunt\n",
              "5197   3018                                 i fucking kill you\n",
              "5483   3177  end this is bulshit gaming fucking sniper and ...\n",
              "5519   3188                              fucking clueless fuck\n",
              "5974   3422             why u fucking hounting kills just push\n",
              "6472   3629                              fucking kill yourself\n",
              "6740   3725            fucking god can't give less than 4 secs\n",
              "6793   3748                    team is fucking stupid animals \n",
              "7082   3894  why i have this fucking retarded russian in my...\n",
              "7101   3896  just now fucking idiot naix and ck  say me wil...\n",
              "7168   3911          it is fucking unranked chill the fuck out\n",
              "7781   4255  dude if you're gonna bitch this much then dont...\n",
              "7835   4265                              CAmila fucking bitch \n",
              "7924   4304                      shut up u fucking virign cunt\n",
              "7938   4304                                fucking indian fuck\n",
              "8057   4366                            Fucking Russians retard\n",
              "8582   4640                              just fucking kill me \n",
              "8763   4754                              that is fucking bitch\n",
              "9613   5216                                 easy fucking slave\n",
              "9681   5241               that fucking ant is dead so im happy\n",
              "9974   5396                              you are fucking idiot"
            ]
          },
          "metadata": {},
          "execution_count": 58
        }
      ]
    },
    {
      "cell_type": "code",
      "metadata": {
        "colab": {
          "base_uri": "https://localhost:8080/"
        },
        "id": "iMUzAcFgZVxD",
        "outputId": "1511937a-6d7e-4457-cab6-147421c68112"
      },
      "source": [
        "w2v_group.get_group(35)['text']"
      ],
      "execution_count": 59,
      "outputs": [
        {
          "output_type": "execute_result",
          "data": {
            "text/plain": [
              "54                       yuou just fuck your ulti as hell\n",
              "875                           they no skill fear the fuck\n",
              "1758                                 die fuck your mother\n",
              "2325                               shut the fuck up bitch\n",
              "3290                            fuck off mid farm and die\n",
              "3502    hey faggot ass woo ima show your stupid fuck h...\n",
              "3503                            nah fuck that toxic cunt \n",
              "3516                                        fuck that kid\n",
              "3915                                shut the fuck up cunt\n",
              "5175            how the fuck can you deny xp to a sniper?\n",
              "5585    why the fuck can you doom me during shadow realm?\n",
              "6198    merry christmass kid picks morph even though h...\n",
              "6788    he saw a sniper in enemy team and he say fuck ...\n",
              "7107                                    injoker noob fuck\n",
              "7489                                  fuck you mom retard\n",
              "7590                          dont fuck with my bas bitch\n",
              "7937                                 fuck u am u dog cunt\n",
              "7943                                 fuck am so noob guys\n",
              "7962                                     ure noob as fuck\n",
              "8744                                     fuck you mom ass\n",
              "8791               your team is gay as fuck, jugga cleave\n",
              "9175    Lovesbeing killed for the second time on 800 m...\n",
              "9810                              ok kill yourself u fuck\n",
              "Name: text, dtype: object"
            ]
          },
          "metadata": {},
          "execution_count": 59
        }
      ]
    },
    {
      "cell_type": "markdown",
      "metadata": {
        "id": "wuAhCkl54oFa"
      },
      "source": [
        "### Reduce dimensionality to display data"
      ]
    },
    {
      "cell_type": "code",
      "metadata": {
        "id": "2eXuWZ32kgeb",
        "colab": {
          "base_uri": "https://localhost:8080/"
        },
        "outputId": "3d12aeca-8129-4178-8475-e713ad7e2558"
      },
      "source": [
        "# use TSNE to reduce dimensionality of data\n",
        "tsne = sklearn.manifold.TSNE(n_components=2, random_state=0)\n",
        "matrix_dicc2d = tsne.fit_transform(w2v_reduced)"
      ],
      "execution_count": 43,
      "outputs": [
        {
          "output_type": "stream",
          "name": "stderr",
          "text": [
            "/usr/local/lib/python3.7/dist-packages/sklearn/manifold/_t_sne.py:783: FutureWarning: The default initialization in TSNE will change from 'random' to 'pca' in 1.2.\n",
            "  FutureWarning,\n",
            "/usr/local/lib/python3.7/dist-packages/sklearn/manifold/_t_sne.py:793: FutureWarning: The default learning rate in TSNE will change from 200.0 to 'auto' in 1.2.\n",
            "  FutureWarning,\n"
          ]
        }
      ]
    },
    {
      "cell_type": "markdown",
      "metadata": {
        "id": "etSq6Apt41aF"
      },
      "source": [
        "### Display data without clusters"
      ]
    },
    {
      "cell_type": "code",
      "metadata": {
        "id": "_piuCSXj42gl"
      },
      "source": [
        "pointsspacy = pd.DataFrame(\n",
        "    [(chat, coord[0], coord[1]) for (chat, coord) in zip(chats, matrix_dicc2d)],\n",
        "    columns=[\"word\", \"x\", \"y\"]\n",
        ")"
      ],
      "execution_count": 44,
      "outputs": []
    },
    {
      "cell_type": "code",
      "metadata": {
        "id": "esuzqLxz5B4i",
        "colab": {
          "base_uri": "https://localhost:8080/",
          "height": 731
        },
        "outputId": "62cfef7b-e013-422a-a5bf-76a753bbd428"
      },
      "source": [
        "pointsspacy.plot.scatter(\"x\", \"y\", s=10, figsize=(20, 12))"
      ],
      "execution_count": 45,
      "outputs": [
        {
          "output_type": "execute_result",
          "data": {
            "text/plain": [
              "<matplotlib.axes._subplots.AxesSubplot at 0x7f63c80b17d0>"
            ]
          },
          "metadata": {},
          "execution_count": 45
        },
        {
          "output_type": "display_data",
          "data": {
            "image/png": "[encoded data removed]",
            "text/plain": [
              "<Figure size 1440x864 with 1 Axes>"
            ]
          },
          "metadata": {
            "needs_background": "light"
          }
        }
      ]
    },
    {
      "cell_type": "markdown",
      "metadata": {
        "id": "WQ0zlijU5IYf"
      },
      "source": [
        "### Display clusters and clusters with biggest proportion of toxic words"
      ]
    },
    {
      "cell_type": "code",
      "metadata": {
        "colab": {
          "base_uri": "https://localhost:8080/",
          "height": 714
        },
        "id": "6MQ6u2oC5JQk",
        "outputId": "8d8b3baf-027e-4250-fc26-17217fbea3ea"
      },
      "source": [
        "fig, ax = plt.subplots()\n",
        "pointscluster = pd.DataFrame(\n",
        "    [(chat, coord[0], coord[1], cluster) for (chat, coord, cluster) in zip(df_test['clean'], matrix_dicc2d, df_test['w2v_clusters']) ],\n",
        "    columns=[\"word\", \"x\", \"y\", \"c\"]\n",
        ")\n",
        "pointscluster.plot(ax=ax, kind='scatter', x='x', y='y', c='c', cmap='viridis', s=10, figsize=(20, 12))\n",
        "toxic_clusters = pd.DataFrame(\n",
        "    [(coord[0], coord[1]) for (coord, cluster) in zip(matrix_dicc2d, df_test['w2v_clusters']) if cluster in top_toxic_clusters ],\n",
        "    columns=[\"x\", \"y\"]\n",
        ")\n",
        "toxic_clusters.plot(ax=ax, kind='scatter', x='x', y='y', color='red')\n",
        "plt.show()"
      ],
      "execution_count": 46,
      "outputs": [
        {
          "output_type": "display_data",
          "data": {
            "image/png": "[encoded data removed]",
            "text/plain": [
              "<Figure size 1440x864 with 2 Axes>"
            ]
          },
          "metadata": {
            "needs_background": "light"
          }
        }
      ]
    }
  ]
}