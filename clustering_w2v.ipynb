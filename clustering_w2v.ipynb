{
  "nbformat": 4,
  "nbformat_minor": 0,
  "metadata": {
    "colab": {
      "name": "clustering_w2v.ipynb",
      "provenance": [],
      "collapsed_sections": [],
      "authorship_tag": "ABX9TyMInUWmMtG+xk9Z2e6crkDJ",
      "include_colab_link": true
    },
    "kernelspec": {
      "name": "python3",
      "display_name": "Python 3"
    },
    "language_info": {
      "name": "python"
    }
  },
  "cells": [
    {
      "cell_type": "markdown",
      "metadata": {
        "id": "view-in-github",
        "colab_type": "text"
      },
      "source": [
        "<a href=\"https://colab.research.google.com/github/csralvall/online_game_toxicity/blob/main/clustering_w2v.ipynb\" target=\"_parent\"><img src=\"https://colab.research.google.com/assets/colab-badge.svg\" alt=\"Open In Colab\"/></a>"
      ]
    },
    {
      "cell_type": "markdown",
      "metadata": {
        "id": "VH7vZ2eXXVDD"
      },
      "source": [
        "### Import utility functions"
      ]
    },
    {
      "cell_type": "code",
      "metadata": {
        "id": "uFh8HD-mWVnw"
      },
      "source": [
        "from IPython.display import clear_output"
      ],
      "execution_count": 1,
      "outputs": []
    },
    {
      "cell_type": "markdown",
      "metadata": {
        "id": "eF3gtzESXiz2"
      },
      "source": [
        "### Install dependencies"
      ]
    },
    {
      "cell_type": "code",
      "metadata": {
        "id": "YBtxeZnzVXjW"
      },
      "source": [
        "# install dependencies\n",
        "!pip install -U pip setuptools wheel pandas sklearn numpy gensim wget\n",
        "clear_output()"
      ],
      "execution_count": 2,
      "outputs": []
    },
    {
      "cell_type": "markdown",
      "metadata": {
        "id": "LHeftvjrXofB"
      },
      "source": [
        "### Import libraries"
      ]
    },
    {
      "cell_type": "code",
      "metadata": {
        "id": "maXhDvByUuFn"
      },
      "source": [
        "# import libraries\n",
        "from google.colab import drive\n",
        "import pandas as pd\n",
        "import numpy as np\n",
        "from sklearn.preprocessing import normalize\n",
        "from sklearn.cluster import KMeans\n",
        "from collections import Counter\n",
        "from gensim.models import Word2Vec"
      ],
      "execution_count": 3,
      "outputs": []
    },
    {
      "cell_type": "markdown",
      "metadata": {
        "id": "0q1b1zYpkE34"
      },
      "source": [
        "### Setup dataframe print options"
      ]
    },
    {
      "cell_type": "code",
      "metadata": {
        "id": "YkUytsZfkDqR"
      },
      "source": [
        "pd.set_option(\"display.max_rows\", None, \"display.max_columns\", None)"
      ],
      "execution_count": 52,
      "outputs": []
    },
    {
      "cell_type": "markdown",
      "metadata": {
        "id": "DL1sYT0tXx7k"
      },
      "source": [
        "### Mount storage"
      ]
    },
    {
      "cell_type": "code",
      "metadata": {
        "colab": {
          "base_uri": "https://localhost:8080/"
        },
        "id": "u3mjkCTQWaLo",
        "outputId": "37801f5b-d6f3-451d-ecea-5d7f0817cace"
      },
      "source": [
        "# mount google drive unit to save computationally expensive results\n",
        "drive.mount('/content/drive')"
      ],
      "execution_count": 4,
      "outputs": [
        {
          "output_type": "stream",
          "name": "stdout",
          "text": [
            "Mounted at /content/drive\n"
          ]
        }
      ]
    },
    {
      "cell_type": "markdown",
      "metadata": {
        "id": "xOZY40qrX0ZC"
      },
      "source": [
        "### Load subset of whole dataset from storage"
      ]
    },
    {
      "cell_type": "code",
      "metadata": {
        "id": "yVhIh1OfWkF_"
      },
      "source": [
        "# english chats from original dataset with anotations\n",
        "eng_annotated = '/content/drive/MyDrive/nlp/dota2_chat_eng_annotated.csv'\n",
        "df_test = pd.read_csv(eng_annotated)[:10000]"
      ],
      "execution_count": 5,
      "outputs": []
    },
    {
      "cell_type": "code",
      "metadata": {
        "colab": {
          "base_uri": "https://localhost:8080/",
          "height": 204
        },
        "id": "8CDodJqzFHJ2",
        "outputId": "afaf7659-baa2-4516-a9e2-712252d6e430"
      },
      "source": [
        "df_test.head()"
      ],
      "execution_count": 6,
      "outputs": [
        {
          "output_type": "execute_result",
          "data": {
            "text/html": [
              "<div>\n",
              "<style scoped>\n",
              "    .dataframe tbody tr th:only-of-type {\n",
              "        vertical-align: middle;\n",
              "    }\n",
              "\n",
              "    .dataframe tbody tr th {\n",
              "        vertical-align: top;\n",
              "    }\n",
              "\n",
              "    .dataframe thead th {\n",
              "        text-align: right;\n",
              "    }\n",
              "</style>\n",
              "<table border=\"1\" class=\"dataframe\">\n",
              "  <thead>\n",
              "    <tr style=\"text-align: right;\">\n",
              "      <th></th>\n",
              "      <th>match</th>\n",
              "      <th>time</th>\n",
              "      <th>slot</th>\n",
              "      <th>text</th>\n",
              "      <th>language</th>\n",
              "      <th>clean</th>\n",
              "      <th>tokens</th>\n",
              "      <th>intensity</th>\n",
              "      <th>toxicity</th>\n",
              "    </tr>\n",
              "  </thead>\n",
              "  <tbody>\n",
              "    <tr>\n",
              "      <th>0</th>\n",
              "      <td>0</td>\n",
              "      <td>1808.40822</td>\n",
              "      <td>9</td>\n",
              "      <td>100%</td>\n",
              "      <td>en</td>\n",
              "      <td>100</td>\n",
              "      <td>NaN</td>\n",
              "      <td>0</td>\n",
              "      <td>0</td>\n",
              "    </tr>\n",
              "    <tr>\n",
              "      <th>1</th>\n",
              "      <td>1</td>\n",
              "      <td>-131.14018</td>\n",
              "      <td>0</td>\n",
              "      <td>twitch.tv/rage_channel</td>\n",
              "      <td>en</td>\n",
              "      <td>twitch rage channel</td>\n",
              "      <td>twitch rage channel</td>\n",
              "      <td>0</td>\n",
              "      <td>0</td>\n",
              "    </tr>\n",
              "    <tr>\n",
              "      <th>2</th>\n",
              "      <td>1</td>\n",
              "      <td>-121.60481</td>\n",
              "      <td>0</td>\n",
              "      <td>https://www.twitch.tv/rage_channel</td>\n",
              "      <td>en</td>\n",
              "      <td>https www twitch rage channel</td>\n",
              "      <td>https www twitch rage channel</td>\n",
              "      <td>0</td>\n",
              "      <td>0</td>\n",
              "    </tr>\n",
              "    <tr>\n",
              "      <th>3</th>\n",
              "      <td>1</td>\n",
              "      <td>700.72893</td>\n",
              "      <td>0</td>\n",
              "      <td>https://www.twitch.tv/rage_channel</td>\n",
              "      <td>en</td>\n",
              "      <td>https www twitch rage channel</td>\n",
              "      <td>https www twitch rage channel</td>\n",
              "      <td>0</td>\n",
              "      <td>0</td>\n",
              "    </tr>\n",
              "    <tr>\n",
              "      <th>4</th>\n",
              "      <td>1</td>\n",
              "      <td>702.99503</td>\n",
              "      <td>0</td>\n",
              "      <td>https://www.twitch.tv/rage_channel</td>\n",
              "      <td>en</td>\n",
              "      <td>https www twitch rage channel</td>\n",
              "      <td>https www twitch rage channel</td>\n",
              "      <td>0</td>\n",
              "      <td>0</td>\n",
              "    </tr>\n",
              "  </tbody>\n",
              "</table>\n",
              "</div>"
            ],
            "text/plain": [
              "   match        time  slot  ...                         tokens intensity toxicity\n",
              "0      0  1808.40822     9  ...                            NaN         0        0\n",
              "1      1  -131.14018     0  ...            twitch rage channel         0        0\n",
              "2      1  -121.60481     0  ...  https www twitch rage channel         0        0\n",
              "3      1   700.72893     0  ...  https www twitch rage channel         0        0\n",
              "4      1   702.99503     0  ...  https www twitch rage channel         0        0\n",
              "\n",
              "[5 rows x 9 columns]"
            ]
          },
          "metadata": {},
          "execution_count": 6
        }
      ]
    },
    {
      "cell_type": "markdown",
      "metadata": {
        "id": "Yu0UcyGI7GHb"
      },
      "source": [
        "### Get bad word list from memory"
      ]
    },
    {
      "cell_type": "code",
      "metadata": {
        "id": "DnXy-9AwhltM"
      },
      "source": [
        "# get downloaded bad word list\n",
        "word_list = \"/content/drive/MyDrive/nlp/bad_words.txt\"\n",
        "# use set for fast queries\n",
        "bad_words = set(line.strip() for line in open(word_list, 'r'))\n",
        "# add new bad words\n",
        "bad_words.update(['noob', 'noobs', 'stfu', 'fukign', 'fuking', 'fukin', 'nooob'])\n",
        "bad_dict = dict.fromkeys(bad_words, 0)"
      ],
      "execution_count": 17,
      "outputs": []
    },
    {
      "cell_type": "markdown",
      "metadata": {
        "id": "iF5zBmzWqOwf"
      },
      "source": [
        "#### Word2Vec embeddings:"
      ]
    },
    {
      "cell_type": "code",
      "metadata": {
        "id": "7OsRlXlT7zs7"
      },
      "source": [
        "# function to create embeddings of words in each chat\n",
        "def generate_embedding_w2v(sentences: [[str]]):\n",
        "  w2v_model = Word2Vec(\n",
        "                     min_count=20,\n",
        "                     window=2,\n",
        "                     #size=300,\n",
        "                     sample=6e-5, \n",
        "                     alpha=0.03, \n",
        "                     min_alpha=0.0007, \n",
        "                     negative=20,\n",
        "                     workers=1)\n",
        "\n",
        "  w2v_model.build_vocab(sentences, progress_per=10000)\n",
        "\n",
        "  w2v_model.train(sentences, total_examples=w2v_model.corpus_count, epochs=30, report_delay=1)\n",
        "\n",
        "  return w2v_model"
      ],
      "execution_count": 7,
      "outputs": []
    },
    {
      "cell_type": "markdown",
      "metadata": {
        "id": "Q6q41eHRYLeD"
      },
      "source": [
        "### Unroll chats as list of words"
      ]
    },
    {
      "cell_type": "code",
      "metadata": {
        "id": "Wet2ZMgEGbzz"
      },
      "source": [
        "def flatten(t):\n",
        "    return [item for sublist in t for item in sublist]"
      ],
      "execution_count": 8,
      "outputs": []
    },
    {
      "cell_type": "code",
      "metadata": {
        "id": "kGbEkPMkmdoM"
      },
      "source": [
        "# from cleaned english chats get all of them without nan values\n",
        "chats = df_test[['tokens']].dropna().astype(str).values\n",
        "chats = flatten(chats)\n",
        "vocab = list(map(lambda x: x.split(), chats))"
      ],
      "execution_count": 9,
      "outputs": []
    },
    {
      "cell_type": "markdown",
      "metadata": {
        "id": "-XHxBPDL3BM9"
      },
      "source": [
        "#### Generate word embeddings from chat"
      ]
    },
    {
      "cell_type": "code",
      "metadata": {
        "id": "uCC4MAJ63sPm"
      },
      "source": [
        "w2v_model = generate_embedding_w2v(vocab)"
      ],
      "execution_count": 10,
      "outputs": []
    },
    {
      "cell_type": "code",
      "metadata": {
        "id": "ukuY_qWGmTXF"
      },
      "source": [
        "# save Word2Vec model\n",
        "w2v_model.save('/content/drive/MyDrive/nlp/word2vec.model')"
      ],
      "execution_count": null,
      "outputs": []
    },
    {
      "cell_type": "markdown",
      "metadata": {
        "id": "2sKtCB-e3LZF"
      },
      "source": [
        "#### Load word embeddings from disk"
      ]
    },
    {
      "cell_type": "code",
      "metadata": {
        "id": "KjT9yQPF3tfT"
      },
      "source": [
        "# load Word2Vec model\n",
        "w2v_model = Word2Vec.load('/content/drive/MyDrive/nlp/word2vec.model')"
      ],
      "execution_count": 12,
      "outputs": []
    },
    {
      "cell_type": "markdown",
      "metadata": {
        "id": "suZ6ZD-lvay6"
      },
      "source": [
        "#### Embeddings utils"
      ]
    },
    {
      "cell_type": "code",
      "metadata": {
        "id": "AisVg8TSvhUj"
      },
      "source": [
        "# generate embedding from chat\n",
        "def chat_embedding(model, chat_words):\n",
        "    chat_embedding = np.ones(100)\n",
        "    for word in chat_words:\n",
        "        if word in model.wv:\n",
        "            chat_embedding *= model.wv[word] \n",
        "    return chat_embedding"
      ],
      "execution_count": 13,
      "outputs": []
    },
    {
      "cell_type": "markdown",
      "metadata": {
        "id": "YSssAgSoxrOo"
      },
      "source": [
        "#### Clustering utils"
      ]
    },
    {
      "cell_type": "code",
      "metadata": {
        "id": "RlacJecnxtnZ"
      },
      "source": [
        "def get_bad_vec(lexicon, chat_words):\n",
        "    for word in chat_words:\n",
        "        if word in lexicon:\n",
        "            bad_dict[word] += 1\n",
        "\n",
        "    bad_vec = np.fromiter(bad_dict.values(), dtype=int)\n",
        "    \n",
        "    return bad_vec"
      ],
      "execution_count": 14,
      "outputs": []
    },
    {
      "cell_type": "code",
      "metadata": {
        "id": "0km18782I8rI"
      },
      "source": [
        "intensity = df_test[['intensity']].copy()"
      ],
      "execution_count": 15,
      "outputs": []
    },
    {
      "cell_type": "markdown",
      "metadata": {
        "id": "4u07Ttn0ljUA"
      },
      "source": [
        "#### Create w2v vectors for clustering"
      ]
    },
    {
      "cell_type": "code",
      "metadata": {
        "id": "MeafPfvlFXRy"
      },
      "source": [
        "w2v_serie = np.array([])\n",
        "for idx, chat in enumerate(chats):\n",
        "    lexicon = dict.fromkeys(bad_words, 0)\n",
        "    chat_intensity = intensity.loc[idx]\n",
        "    chat_words = chat.split()\n",
        "    bad_vec = get_bad_vec(lexicon, chat_words)\n",
        "    w2v_embedding = chat_embedding(w2v_model, chat_words)\n",
        "    w2v_bad_int_vec = np.hstack((w2v_embedding, bad_vec, chat_intensity)).ravel()\n",
        "    w2v_serie = np.concatenate((w2v_serie, w2v_bad_int_vec))"
      ],
      "execution_count": 18,
      "outputs": []
    },
    {
      "cell_type": "markdown",
      "metadata": {
        "id": "5vjt8H2Glrwi"
      },
      "source": [
        "#### Reshape data"
      ]
    },
    {
      "cell_type": "code",
      "metadata": {
        "id": "j5ob-oAzwGZC"
      },
      "source": [
        "w2v_ncolumns = w2v_model.wv.vectors.shape[1] + len(bad_words) + 1\n",
        "w2v_serie = w2v_serie.astype('float').reshape((-1, w2v_ncolumns))\n",
        "w2v_matrix = w2v_serie[~np.isnan(w2v_serie)].reshape((-1, w2v_ncolumns))"
      ],
      "execution_count": 19,
      "outputs": []
    },
    {
      "cell_type": "markdown",
      "metadata": {
        "id": "NfRO3gt9lxNs"
      },
      "source": [
        "#### Matrix reduction"
      ]
    },
    {
      "cell_type": "code",
      "metadata": {
        "id": "ZVZBvVQj6EWR"
      },
      "source": [
        "def reduce_matrix(matrix: np.ndarray, *, variance_treshold: float):\n",
        "    print(f'INPUT SHAPE: {matrix.shape}')\n",
        "    # reduce all vectors to [0, 1] space\n",
        "    normalized_matrix = normalize(matrix, axis=1)\n",
        "    # compute variances in each row\n",
        "    matrix_variances = np.var(matrix, axis=0)\n",
        "    # create mask for features with high correlation (low variance)\n",
        "    bool_mask = np.where(matrix_variances < variance_treshold)\n",
        "    # filter features with high correlation (variance under treshold)\n",
        "    raked_matrix = np.delete(normalized_matrix, bool_mask, axis=1)\n",
        "    print(f'OUTPUT SHAPE: {raked_matrix.shape}')\n",
        "    return raked_matrix"
      ],
      "execution_count": 22,
      "outputs": []
    },
    {
      "cell_type": "markdown",
      "metadata": {
        "id": "GvqNAUdfhnWB"
      },
      "source": [
        "### Reduce matrix"
      ]
    },
    {
      "cell_type": "code",
      "metadata": {
        "colab": {
          "base_uri": "https://localhost:8080/"
        },
        "id": "bLHhdTn56Ywf",
        "outputId": "9d3f7868-d224-4bcb-f836-3dfc63c69878"
      },
      "source": [
        "w2v_reduced = reduce_matrix(w2v_matrix, variance_treshold=0.01)"
      ],
      "execution_count": 36,
      "outputs": [
        {
          "output_type": "stream",
          "name": "stdout",
          "text": [
            "INPUT SHAPE: (8157, 1492)\n",
            "OUTPUT SHAPE: (8157, 239)\n"
          ]
        }
      ]
    },
    {
      "cell_type": "markdown",
      "metadata": {
        "id": "3bimv8Pihzk2"
      },
      "source": [
        "### Save matrix"
      ]
    },
    {
      "cell_type": "code",
      "metadata": {
        "id": "5hFo-KdhwDUU"
      },
      "source": [
        "with open('/content/drive/MyDrive/nlp/w2v_serie_10000.npy', 'wb') as output_file:\n",
        "    np.save(output_file, w2v_reduced)"
      ],
      "execution_count": 37,
      "outputs": []
    },
    {
      "cell_type": "markdown",
      "metadata": {
        "id": "MV30N4Goh2nf"
      },
      "source": [
        "### Load matrix from storage"
      ]
    },
    {
      "cell_type": "code",
      "metadata": {
        "id": "on1CLs95ghfr"
      },
      "source": [
        "w2v_reduced = np.load('/content/drive/MyDrive/nlp/w2v_serie_10000.npy')"
      ],
      "execution_count": 39,
      "outputs": []
    },
    {
      "cell_type": "markdown",
      "metadata": {
        "id": "V9svTIM7l1Mm"
      },
      "source": [
        "### Clustering"
      ]
    },
    {
      "cell_type": "code",
      "metadata": {
        "id": "yu2EI9Ty6osz"
      },
      "source": [
        "def generate_clusters(\n",
        "    matrix: np.ndarray,\n",
        "    n_clusters: int\n",
        ") -> KMeans:\n",
        "    # generate word clusters using the KMeans algorithm.\n",
        "    print(\"\\nClustering started\")\n",
        "    # Instantiate KMeans clusterer for n_clusters\n",
        "    km_model = KMeans(n_clusters=n_clusters, random_state=3)\n",
        "    # create clusters\n",
        "    km_model.fit(matrix)\n",
        "    print(\"Clustering finished\")\n",
        "    return km_model"
      ],
      "execution_count": 40,
      "outputs": []
    },
    {
      "cell_type": "markdown",
      "metadata": {
        "id": "ehqokty1iTra"
      },
      "source": [
        "### Create clusters"
      ]
    },
    {
      "cell_type": "code",
      "metadata": {
        "colab": {
          "base_uri": "https://localhost:8080/"
        },
        "id": "DPhX4J3Z69Hx",
        "outputId": "052c4ff6-9f7c-4e2c-c1c3-a43a27ec27e0"
      },
      "source": [
        "w2v_clusters = generate_clusters(w2v_reduced, 40)"
      ],
      "execution_count": 41,
      "outputs": [
        {
          "output_type": "stream",
          "name": "stdout",
          "text": [
            "\n",
            "Clustering started\n",
            "Clustering finished\n"
          ]
        }
      ]
    },
    {
      "cell_type": "markdown",
      "metadata": {
        "id": "zsGqDt5jiXko"
      },
      "source": [
        "### Cluster utility functions"
      ]
    },
    {
      "cell_type": "code",
      "metadata": {
        "id": "9m5VxwFj7pvE"
      },
      "source": [
        "def display_summary(clusters: KMeans):\n",
        "    cluster_count = Counter(sorted(clusters.labels_))\n",
        "    for cluster in cluster_count:\n",
        "        print (\"Cluster#\", cluster,\" - Total words:\", cluster_count[cluster])"
      ],
      "execution_count": 42,
      "outputs": []
    },
    {
      "cell_type": "code",
      "metadata": {
        "id": "9oN0JpYkuRdp"
      },
      "source": [
        "def annotate_dataframe(clusters: KMeans, df: pd.DataFrame, col_name: str):\n",
        "    cluster_count = Counter(sorted(clusters.labels_))\n",
        "    #sort cluster centers by proximity to centroid\n",
        "    order_centroids = clusters.cluster_centers_.argsort()[:, ::-1] \n",
        "\n",
        "    clusters_df = np.zeros(len(df))\n",
        "    \n",
        "    for cluster_idx in cluster_count:\n",
        "        # get words inside each cluster\n",
        "        cluster_words = np.where(clusters.labels_ == cluster_idx)[0]\n",
        "        # anotate all chats in cluster\n",
        "        for idx in cluster_words:\n",
        "            clusters_df[idx] = int(cluster_idx)\n",
        "\n",
        "    df[col_name] = clusters_df"
      ],
      "execution_count": 43,
      "outputs": []
    },
    {
      "cell_type": "markdown",
      "metadata": {
        "id": "VVNQmUU0igKL"
      },
      "source": [
        "### Show info about clusters"
      ]
    },
    {
      "cell_type": "code",
      "metadata": {
        "colab": {
          "base_uri": "https://localhost:8080/"
        },
        "id": "qSr-_Yk87viz",
        "outputId": "577888a7-b61d-4206-b8e4-061e88c84f82"
      },
      "source": [
        "# show number of words captured by each cluster\n",
        "display_summary(w2v_clusters)"
      ],
      "execution_count": 44,
      "outputs": [
        {
          "output_type": "stream",
          "name": "stdout",
          "text": [
            "Cluster# 0  - Total words: 118\n",
            "Cluster# 1  - Total words: 408\n",
            "Cluster# 2  - Total words: 121\n",
            "Cluster# 3  - Total words: 151\n",
            "Cluster# 4  - Total words: 369\n",
            "Cluster# 5  - Total words: 8\n",
            "Cluster# 6  - Total words: 317\n",
            "Cluster# 7  - Total words: 43\n",
            "Cluster# 8  - Total words: 1131\n",
            "Cluster# 9  - Total words: 758\n",
            "Cluster# 10  - Total words: 6\n",
            "Cluster# 11  - Total words: 67\n",
            "Cluster# 12  - Total words: 96\n",
            "Cluster# 13  - Total words: 311\n",
            "Cluster# 14  - Total words: 1\n",
            "Cluster# 15  - Total words: 434\n",
            "Cluster# 16  - Total words: 2\n",
            "Cluster# 17  - Total words: 50\n",
            "Cluster# 18  - Total words: 53\n",
            "Cluster# 19  - Total words: 3\n",
            "Cluster# 20  - Total words: 11\n",
            "Cluster# 21  - Total words: 737\n",
            "Cluster# 22  - Total words: 69\n",
            "Cluster# 23  - Total words: 398\n",
            "Cluster# 24  - Total words: 3\n",
            "Cluster# 25  - Total words: 8\n",
            "Cluster# 26  - Total words: 83\n",
            "Cluster# 27  - Total words: 28\n",
            "Cluster# 28  - Total words: 2\n",
            "Cluster# 29  - Total words: 1\n",
            "Cluster# 30  - Total words: 15\n",
            "Cluster# 31  - Total words: 664\n",
            "Cluster# 32  - Total words: 2\n",
            "Cluster# 33  - Total words: 9\n",
            "Cluster# 34  - Total words: 526\n",
            "Cluster# 35  - Total words: 8\n",
            "Cluster# 36  - Total words: 8\n",
            "Cluster# 37  - Total words: 167\n",
            "Cluster# 38  - Total words: 1\n",
            "Cluster# 39  - Total words: 970\n"
          ]
        }
      ]
    },
    {
      "cell_type": "markdown",
      "metadata": {
        "id": "ApUleEUNi6NO"
      },
      "source": [
        "### Annotate cluster for each row in dataframe"
      ]
    },
    {
      "cell_type": "code",
      "metadata": {
        "id": "628xHBsKvEXw"
      },
      "source": [
        "df_test = df_test.copy()"
      ],
      "execution_count": 45,
      "outputs": []
    },
    {
      "cell_type": "code",
      "metadata": {
        "id": "5adupRW8v7vk"
      },
      "source": [
        "annotate_dataframe(w2v_clusters, df_test, 'w2v_clusters')"
      ],
      "execution_count": 46,
      "outputs": []
    },
    {
      "cell_type": "code",
      "metadata": {
        "id": "uFKi61q3cjhf"
      },
      "source": [
        "df_test.to_csv(f'/content/drive/MyDrive/nlp/w2v_clusters_df.csv', index=False)"
      ],
      "execution_count": 47,
      "outputs": []
    },
    {
      "cell_type": "markdown",
      "metadata": {
        "id": "nycNKOAWjMtN"
      },
      "source": [
        "### Explore results"
      ]
    },
    {
      "cell_type": "code",
      "metadata": {
        "id": "H7jOXlqFw_Lu"
      },
      "source": [
        "w2v_group = df_test.groupby('w2v_clusters')"
      ],
      "execution_count": 48,
      "outputs": []
    },
    {
      "cell_type": "markdown",
      "metadata": {
        "id": "1OXimEHIjjt1"
      },
      "source": [
        "#### Get toxicity score for each cluster"
      ]
    },
    {
      "cell_type": "code",
      "metadata": {
        "id": "KIkBmlPAlCoD",
        "colab": {
          "base_uri": "https://localhost:8080/"
        },
        "outputId": "233e5e9d-02fe-4a11-95c9-60c03a89f88a"
      },
      "source": [
        "w2v_group['toxicity'].sum() / w2v_group.size()"
      ],
      "execution_count": 49,
      "outputs": [
        {
          "output_type": "execute_result",
          "data": {
            "text/plain": [
              "w2v_clusters\n",
              "0.0     0.128506\n",
              "1.0     0.134804\n",
              "2.0     0.066116\n",
              "3.0     0.092715\n",
              "4.0     0.113821\n",
              "5.0     0.125000\n",
              "6.0     0.113565\n",
              "7.0     0.023256\n",
              "8.0     0.104332\n",
              "9.0     0.129288\n",
              "10.0    0.000000\n",
              "11.0    0.059701\n",
              "12.0    0.072917\n",
              "13.0    0.138264\n",
              "14.0    0.000000\n",
              "15.0    0.085253\n",
              "16.0    0.000000\n",
              "17.0    0.120000\n",
              "18.0    0.056604\n",
              "19.0    0.333333\n",
              "20.0    0.000000\n",
              "21.0    0.099050\n",
              "22.0    0.072464\n",
              "23.0    0.130653\n",
              "24.0    0.000000\n",
              "25.0    0.250000\n",
              "26.0    0.180723\n",
              "27.0    0.107143\n",
              "28.0    0.000000\n",
              "29.0    0.000000\n",
              "30.0    0.066667\n",
              "31.0    0.099398\n",
              "32.0    0.000000\n",
              "33.0    0.111111\n",
              "34.0    0.093156\n",
              "35.0    0.125000\n",
              "36.0    0.250000\n",
              "37.0    0.185629\n",
              "38.0    0.000000\n",
              "39.0    0.078351\n",
              "dtype: float64"
            ]
          },
          "metadata": {},
          "execution_count": 49
        }
      ]
    },
    {
      "cell_type": "markdown",
      "metadata": {
        "id": "WsVbA2HPkeAC"
      },
      "source": [
        "### Explore clusters"
      ]
    },
    {
      "cell_type": "code",
      "metadata": {
        "colab": {
          "base_uri": "https://localhost:8080/"
        },
        "id": "RtpwGTryiitB",
        "outputId": "768c7b57-5f36-4eb5-9842-ea678752130c"
      },
      "source": [
        "w2v_group.get_group(23)['text']"
      ],
      "execution_count": 54,
      "outputs": [
        {
          "output_type": "execute_result",
          "data": {
            "text/plain": [
              "1762                          can only farm and do noting\n",
              "1763                                           like creep\n",
              "1764                                                  end\n",
              "1765                  cant believe how alch can have item\n",
              "1766                                         unbelievable\n",
              "1767                             Team can feed every noob\n",
              "1768                               And let me die to ward\n",
              "1769                                            best team\n",
              "1770                                            easy gyro\n",
              "1771                                            cant 1on5\n",
              "1772                                                 mute\n",
              "1773                                               report\n",
              "1774                                      just impossible\n",
              "1775    unbelievable how people can be so bad to lose ...\n",
              "1776                            fucking trash of humanity\n",
              "1777                                nice fair matchmaking\n",
              "1778           give me the 4 worst players in all of dota\n",
              "1779                                                 1on5\n",
              "1780                                                great\n",
              "1781                                             easy mid\n",
              "1782                                            easy game\n",
              "1783                                                  rly\n",
              "1784                            pa still has not 1 single\n",
              "1785                                                point\n",
              "1786                                                of hp\n",
              "1787                                              not one\n",
              "1788                                      Not fucking one\n",
              "1789                                   Even treads on agi\n",
              "1790                                 not one single point\n",
              "1791    i cant believe how lowskill and stupid people ...\n",
              "1792                     i was smarter on my 2nd day dota\n",
              "1793                                         unbelievable\n",
              "1794                                             janitors\n",
              "1795                                           yeah funny\n",
              "1796                                        gg report alh\n",
              "1797                                            Cooldown?\n",
              "1798                                         ggwp gl next\n",
              "1799                                                 GGWP\n",
              "1800                                                   of\n",
              "1801                                       AHSDUH#@$UJMSD\n",
              "1802                                cgfcb,j pf cjxedcndbt\n",
              "1803                                                clock\n",
              "1804                                         report luna \n",
              "1805                                            ff no def\n",
              "1806                                                   ok\n",
              "1807                                               pls ff\n",
              "1808                                                gg wp\n",
              "1809                is there a point to these predictions\n",
              "1810             other than showing off ur winning streak\n",
              "1811                                           pay to win\n",
              "1812                                   thats all it otok?\n",
              "1813                          one curse and you boys run?\n",
              "1814                                 i dont need 3 people\n",
              "1815                                                gg wp\n",
              "1816                                              commend\n",
              "1817                            maybe gank luna next time\n",
              "1818                                         gank more cm\n",
              "1819                                         gg wp comend\n",
              "1820                                           pudge noob\n",
              "1821                                                 END \n",
              "1822                                                  lol\n",
              "1823                                                  lol\n",
              "1824                                   that's how we roll\n",
              "1825                                           kamehameha\n",
              "1826                                                 ggwp\n",
              "1827                                                 ggwp\n",
              "1828                                                 ggwp\n",
              "1829                                                  ffs\n",
              "1830                                                gg wp\n",
              "1831                                                GG WP\n",
              "1832                                                gg wp\n",
              "1833                                    can u just wait ?\n",
              "1834                                        reprot legion\n",
              "1835                                           naber reis\n",
              "1836                                          dönor kebab\n",
              "1837                                     my god this team\n",
              "1838                                      jugg so useless\n",
              "1839                  dark willow doesnt terrorize mk ult\n",
              "1840                            wtf am i supposed to do ?\n",
              "1841                                                gg wp\n",
              "1842                                       fuck this team\n",
              "1843                                     report noob team\n",
              "1844                                                  fck\n",
              "1845                                           end please\n",
              "1846                                       just report LS\n",
              "1847                                       cant even help\n",
              "1848                                                  Lol\n",
              "1849                                          got noob LS\n",
              "1850                             Pick pho as offlane rofl\n",
              "1851                                         he's at base\n",
              "1852                                                  LOL\n",
              "1853                                            not lucky\n",
              "1854        how to win then no one can kill weaver and am\n",
              "1855                                            report LS\n",
              "1856                                                  Wtf\n",
              "1857                                                Lucky\n",
              "1858                                 report LS pls thanks\n",
              "1859                                            nice ward\n",
              "1860                                         fucking noob\n",
              "1861                                                PUDGE\n",
              "1862                                            WHY PUDGE\n",
              "1863                                            PIOCK MID\n",
              "1864                                   u can straight top\n",
              "1865                                               no def\n",
              "1866                                        destory items\n",
              "1867                                why u pick supp pudge\n",
              "1868                                          u top mider\n",
              "1869                                                  LOL\n",
              "1870                                                   wp\n",
              "1871                               report ogre and am pls\n",
              "1872                              fucking pieces of trash\n",
              "1873                                           wait i pee\n",
              "1874                                         UNDYING MID?\n",
              "1875                                 is this game serious\n",
              "1876                                            this game\n",
              "1877                                                 wait\n",
              "1878                                      this is undying\n",
              "1879                                                   ok\n",
              "1880                                                   ok\n",
              "1881                                                   ok\n",
              "1882                                        Sick wardtrap\n",
              "1883                                    Wtf are you doing\n",
              "1884                                             rip farm\n",
              "1885                                            how often\n",
              "1886                        are you gonna suicide kill me\n",
              "1887                                          its fp jugg\n",
              "1888                            rly i hope you report him\n",
              "1889                                                 he h\n",
              "1890                                   he had a hard lane\n",
              "1891                                            very hard\n",
              "1892                                                 lmao\n",
              "1893                                                 hard\n",
              "1894                                     you need trilane\n",
              "1895                                            u need sb\n",
              "1896                                               vs bbb\n",
              "1897    u had so much luck. 100% chance for that fucki...\n",
              "1898                                       pls commend me\n",
              "1899                                             guys pls\n",
              "1900              commend for strong independent offlaner\n",
              "1901                                                  Wtf\n",
              "1902                                                  Wtf\n",
              "1903                                             no carry\n",
              "1904                                            BLACKHOLE\n",
              "1905                                                 vish\n",
              "1906    monkey blocks my hook, i said he was going to ...\n",
              "1907            twice i get this shitty brood as  a core.\n",
              "1908                                                  wtf\n",
              "1909                                            cold snap\n",
              "1910                                            nao sabia\n",
              "1911                                                 Kkkk\n",
              "1912                                                tendi\n",
              "1913                                           nice traid\n",
              "1914                                             krl KKKK\n",
              "1915                                                  LOL\n",
              "1916                                                 rofl\n",
              "1917                                                 AHHA\n",
              "1918                                              end pls\n",
              "1919                                            if u know\n",
              "1920                      even ur ember cant last hit lul\n",
              "1921                                       Useless allies\n",
              "1922                                        youre no diff\n",
              "1923                       Do I call myself as an allies?\n",
              "1924                                                 sure\n",
              "1925                                                  end\n",
              "1926                                   pick a shaman more\n",
              "1927                                                 WOLE\n",
              "1928                                              very ez\n",
              "1929           dont be worry , we have god father of drug\n",
              "1930                                                  lol\n",
              "1931                                     i see medusa mid\n",
              "1932                                           i see lose\n",
              "1933                                 i see noob at satrt]\n",
              "1934                                        too much talk\n",
              "1935                                       and u noob tpp\n",
              "1936                                                  too\n",
              "1937                                       you feel good?\n",
              "1938                                                 Ggwp\n",
              "1939                                                  END\n",
              "1940                                 uberlord farm for???\n",
              "1941                                                 Ggwp\n",
              "1942                                           noob pango\n",
              "1943                                           Commend me\n",
              "1944                                                  lol\n",
              "1945                                         |ty for rune\n",
              "1946                                          report jugg\n",
              "1947                                                  lol\n",
              "1948                          wohohoh huskar commended :D\n",
              "1949                                                  lol\n",
              "1950                                                gg wp\n",
              "1951                                               its ez\n",
              "1952                                    report juggernaut\n",
              "1953                        team commended but juggernaut\n",
              "1954                                        TY FOR A GAME\n",
              "1955                                        commend me ty\n",
              "1956                              ten dota two heroes top\n",
              "1957                            no sound no mine blows up\n",
              "1958                                          OK ICEFRAUD\n",
              "1959        what sound do you think i make when i eat cum\n",
              "1960                                                gg wp\n",
              "1961                                                   ff\n",
              "1962                                                skill\n",
              "1963                                 4 muta tima autistov\n",
              "1964                                       kon4enaja tima\n",
              "1965                                             3k musor\n",
              "1966                                        feeed me more\n",
              "1967                                        feeed me more\n",
              "1968                                 go jager pofeezu ewe\n",
              "1969                                          feeed po cd\n",
              "1970                                               streek\n",
              "1971                                    report rubick pls\n",
              "1972                                                  lol\n",
              "1973                                      report sups pls\n",
              "1974                     REPORTA SHAMAN E RUBICK = COMEND\n",
              "1975                                       commend brasil\n",
              "1976                                            comend me\n",
              "1977                                           commend :D\n",
              "1978    if you could speak that AM afk or dc i would n...\n",
              "1979                  but those alien signs tell nothing \n",
              "1980                             is that your tawarisz  ?\n",
              "1981                                              what !?\n",
              "1982                                        he cant farm \n",
              "1983         sorry bro, it”s was funny u didnt get a stun\n",
              "1984                    later it will not be funny for me\n",
              "1985                                                 G  g\n",
              "1986                                                 rofl\n",
              "1987                                     fury lycan boiys\n",
              "1988                                                  run\n",
              "1989                                            GODO GAME\n",
              "1990                                                 KEEP\n",
              "1991                                              FARMING\n",
              "1992                                              LIKE A \n",
              "1993                                            F CK THIS\n",
              "1994                                            farm more\n",
              "1995                                                gg wp\n",
              "1996                                            rage boiz\n",
              "1997                                                 ggwp\n",
              "1998                            i mjust gonna sit in base\n",
              "1999                        this lineup is fucking stupid\n",
              "2000                                        what happened\n",
              "2001                                           this picks\n",
              "2002                             storm failed mid to ursa\n",
              "2003                                         and he whine\n",
              "2004                                               these*\n",
              "2005                           every1 throw toys out pram\n",
              "2006                                  the picks were fine\n",
              "2007                                    we were jsut edgy\n",
              "2008                     these guys dont know how to play\n",
              "2009                                       i had to ward \n",
              "2010                         and when i went to gank they\n",
              "2011                                      would just look\n",
              "2012    and storm spends more time typing than anythin...\n",
              "2013                                             just end\n",
              "2014                                      ill sit in base\n",
              "2015                                                 stop\n",
              "2016                                 Better if you do tbh\n",
              "2017                                doom, aba, keep, dusa\n",
              "2018               i wish you sat in base since the start\n",
              "2019                                         no lock down\n",
              "2020                                        just push now\n",
              "2021                             we were gonna mid kunkka\n",
              "2022                                   my lanes were dumb\n",
              "2023                                i had to ward myself \n",
              "2024                            storm failing mid to ursa\n",
              "2025                                         just a joker\n",
              "2026    look at this line up and honestly say your tea...\n",
              "2027                                        You just lost\n",
              "2028                                 ursa is goo dmid tho\n",
              "2029                                    ursas just a king\n",
              "2030                                       ours was worse\n",
              "2031                                you have 3 lock downs\n",
              "2032                             storm unconventional mid\n",
              "2033                                         ursa classic\n",
              "2034                               i thought it'd be easy\n",
              "2035                                             just end\n",
              "2036              ive never heard of storm mid before tbh\n",
              "2037               then at 8 mins you were already up 6-0\n",
              "2038                                before i did anything\n",
              "2039                                                 rofl\n",
              "2040                           this fucking ursa try hard\n",
              "2041                         did anything except feed lol\n",
              "2042                                           ursa stop \n",
              "2043    nothing i can do when my team just run when i ...\n",
              "2044                                     leave them alone\n",
              "2045                                  ursa is a cunt haha\n",
              "2046                     well im reporting storm and dusa\n",
              "2047                   because you both tilted each other\n",
              "2048                                          sounds good\n",
              "2049    thats fine you can report me. i hardly said an...\n",
              "2050               im gonna report ursa for ability abuse\n",
              "2051                                     who kept whining\n",
              "2052                                                  lol\n",
              "2053                                                 lmao\n",
              "2054                                           Storm dead\n",
              "2055                                                  LOL\n",
              "2056                                                 ggwp\n",
              "2057                                                   GO\n",
              "2058                                            easy game\n",
              "2059                                         ursa feeding\n",
              "2060                                               report\n",
              "2061                                         report storm\n",
              "2062                                                  lol\n",
              "2063                                              mk :)(0\n",
              "2064                                                   sf\n",
              "2065                                             nlfqntcm\n",
              "2066                                                 wtf \n",
              "2067                                                 OMFG\n",
              "2068                         np our SF is totaly autistic\n",
              "2069                                                 ggwp\n",
              "2070                                       sf is brainlet\n",
              "2071                         pathetic AM pick in unranked\n",
              "2072                                                gg wp\n",
              "2073                                        comended team\n",
              "2074                                        carried by SF\n",
              "2075                                     yes we know that\n",
              "2076                                        and ez offane\n",
              "2077                                                gg wp\n",
              "2078                                                   wp\n",
              "2079                                                  bye\n",
              "2080                            GG our axe was bad though\n",
              "2081                               noobs always goes core\n",
              "2082                                               ff pls\n",
              "2083                                        no way to win\n",
              "2084                                     report slark pls\n",
              "2085                                    more gank me tusk\n",
              "2086                                                   wp\n",
              "2087                                                 glgf\n",
              "2088                                good luck get fucked?\n",
              "2089                                                 gud*\n",
              "2090                           Yeah, don't look at the WK\n",
              "2091                                            Please...\n",
              "2092                Just pretend the man doesn't exist...\n",
              "2093                                                 cool\n",
              "2094                                          wk reported\n",
              "2095                                                  4x6\n",
              "2096                                                    0\n",
              "2097                                                    0\n",
              "2098                                                   wp\n",
              "2099                                                   ff\n",
              "2100                                        retardos team\n",
              "2101                                                 OMFG\n",
              "2102                                        pa realy shit\n",
              "2103                                     look the shit pa\n",
              "2104                                             trash pa\n",
              "2105                                          go dead plz\n",
              "2106                                                  plz\n",
              "2107                                              go back\n",
              "2108                                     let them def wtf\n",
              "2109                                             dude wtf\n",
              "2110                               nice rofl(mother dead)\n",
              "2111                                                 joke\n",
              "2112                                              commend\n",
              "2113                                                envy?\n",
              "2114                                                envy?\n",
              "2115                                               3 miss\n",
              "2116                                                   XD\n",
              "2117                                        naga reported\n",
              "2118                                                u too\n",
              "2119                                                  DDD\n",
              "2120                                       have fun, lads\n",
              "2121                                      G feed done mid\n",
              "2122                                                Pussy\n",
              "2123                                              g base?\n",
              "2124                                               Pussy?\n",
              "2125                                               Pussy?\n",
              "2126                                            G end mid\n",
              "2127                              5 asshole move together\n",
              "2128                                                  Thx\n",
              "2129                                              ASshole\n",
              "2130                                           get fucked\n",
              "2131                                              So hard\n",
              "2132                                          Forgot game\n",
              "2133                                             Go study\n",
              "2134                                             You guys\n",
              "2135                                                Sucks\n",
              "2136                       nice feed top trol and spectra\n",
              "2137                                         i was mid ck\n",
              "2138                                                gg wp\n",
              "2139                                    Fuc k you asshole\n",
              "2140                                               People\n",
              "2141    ck you need to study, half your senteces make ...\n",
              "2142                                           sorry guys\n",
              "2143                                                   wp\n",
              "2144                                              GG team\n",
              "2145             DAHIL MARAMING BOMBA NAGHIHINATU SA INYU\n",
              "2146                                                 push\n",
              "2147                                          PUSH DAW OH\n",
              "2148                                                  wtf\n",
              "2149                                  stfu techies player\n",
              "2150                                          END NA GUIS\n",
              "2151                                         END NA ..EZZ\n",
              "2152                                              gg game\n",
              "2153                                             commend \n",
              "2154                                                sorry\n",
              "2155                                                   wp\n",
              "2156                                                  lol\n",
              "2157                                cmon guys 3v1 really?\n",
              "2158                                  that was a 3v1 too?\n",
              "2159                                  how do you like it?\n",
              "Name: text, dtype: object"
            ]
          },
          "metadata": {},
          "execution_count": 54
        }
      ]
    },
    {
      "cell_type": "code",
      "metadata": {
        "id": "2eXuWZ32kgeb"
      },
      "source": [
        ""
      ],
      "execution_count": null,
      "outputs": []
    }
  ]
}